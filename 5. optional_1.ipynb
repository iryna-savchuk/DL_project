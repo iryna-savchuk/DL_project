{
  "cells": [
    {
      "cell_type": "markdown",
      "metadata": {
        "id": "Oi8mJmwnwmYM"
      },
      "source": [
        "The file will contain transfer learning use case(s) and comparison with the best model."
      ]
    }
  ],
  "metadata": {
    "colab": {
      "authorship_tag": "ABX9TyPeUCJmyH7LW3uQbu/SIpYQ",
      "provenance": []
    },
    "kernelspec": {
      "display_name": "Python 3",
      "name": "python3"
    },
    "language_info": {
      "name": "python"
    }
  },
  "nbformat": 4,
  "nbformat_minor": 0
}
