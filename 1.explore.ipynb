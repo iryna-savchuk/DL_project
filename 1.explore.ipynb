{
  "nbformat": 4,
  "nbformat_minor": 0,
  "metadata": {
    "colab": {
      "provenance": [],
      "authorship_tag": "ABX9TyMYEsFyUV86Vl5vwD6HHNK3"
    },
    "kernelspec": {
      "name": "python3",
      "display_name": "Python 3"
    },
    "language_info": {
      "name": "python"
    },
    "accelerator": "GPU",
    "gpuClass": "standard"
  },
  "cells": [
    {
      "cell_type": "code",
      "source": [
        "import requests \n",
        "import os\n",
        "import zipfile"
      ],
      "metadata": {
        "id": "VifmyRTAUWqH"
      },
      "execution_count": 17,
      "outputs": []
    },
    {
      "cell_type": "code",
      "source": [
        "train_URL = \"https://storage.googleapis.com/ibeans/train.zip\"\n",
        "validation_URL = \"https://storage.googleapis.com/ibeans/validation.zip\"\n",
        "test_URL = \"https://storage.googleapis.com/ibeans/test.zip\""
      ],
      "metadata": {
        "id": "n99iOEofT6mK"
      },
      "execution_count": 18,
      "outputs": []
    },
    {
      "cell_type": "code",
      "source": [
        "def download_data(url_to_zip, destination_folder = \"datasets/\"):\n",
        "  # Downloading the file by sending the request to the URL\n",
        "  req = requests.get(url_to_zip)\n",
        "  # Splitting URL to get the file name\n",
        "  filename = url_to_zip.split('/')[-1]\n",
        "  \n",
        "  # Check if 'destination_folder' exists \n",
        "  if not os.path.exists(destination_folder):\n",
        "    os.makedirs(destination_folder)  # create a new directory of doesn't exist\n",
        "\n",
        "  # Writing file to 'destination_folder'\n",
        "  with open(destination_folder + filename,'wb') as output_file:\n",
        "    output_file.write(req.content)\n",
        "\n",
        "  # Extracting files from zip\n",
        "  zip_ = zipfile.ZipFile(destination_folder + filename)\n",
        "  zip_.extractall()\n",
        "  zip_.close()"
      ],
      "metadata": {
        "id": "i9zceIGLUZB8"
      },
      "execution_count": 25,
      "outputs": []
    },
    {
      "cell_type": "code",
      "source": [
        "for dataset in [train_URL, validation_URL, test_URL]:\n",
        "  download_data(dataset)"
      ],
      "metadata": {
        "id": "7tV1APPJV1iU"
      },
      "execution_count": 27,
      "outputs": []
    }
  ]
}