{
  "nbformat": 4,
  "nbformat_minor": 0,
  "metadata": {
    "colab": {
      "provenance": [],
      "authorship_tag": "ABX9TyP1KZr0VX8aPT5K+m8lkh8p"
    },
    "kernelspec": {
      "name": "python3",
      "display_name": "Python 3"
    },
    "language_info": {
      "name": "python"
    }
  },
  "cells": [
    {
      "cell_type": "markdown",
      "source": [
        "The file will contain hyperparameter search and comparison with the handcrafted model"
      ],
      "metadata": {
        "id": "f-bEHiYHwBgJ"
      }
    },
    {
      "cell_type": "code",
      "execution_count": null,
      "metadata": {
        "id": "Y-aTiR_ev8j-"
      },
      "outputs": [],
      "source": []
    }
  ]
}