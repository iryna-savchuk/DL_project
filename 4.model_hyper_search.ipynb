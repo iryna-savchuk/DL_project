{
  "cells": [
    {
      "cell_type": "code",
      "source": [
        "!pip install -q -U keras-tuner\n"
      ],
      "metadata": {
        "id": "fSJa5yUoqS3R",
        "outputId": "81e510d3-0aa6-4b62-fa90-01a5fa394511",
        "colab": {
          "base_uri": "https://localhost:8080/"
        }
      },
      "execution_count": 1,
      "outputs": [
        {
          "output_type": "stream",
          "name": "stdout",
          "text": [
            "\u001b[?25l     \u001b[90m━━━━━━━━━━━━━━━━━━━━━━━━━━━━━━━━━━━━━━━━\u001b[0m \u001b[32m0.0/172.2 KB\u001b[0m \u001b[31m?\u001b[0m eta \u001b[36m-:--:--\u001b[0m\r\u001b[2K     \u001b[90m━━━━━━━━━━━━━━━━━━━━━━━━━━━━━━━━━━━━━━━\u001b[0m \u001b[32m172.2/172.2 KB\u001b[0m \u001b[31m5.8 MB/s\u001b[0m eta \u001b[36m0:00:00\u001b[0m\n",
            "\u001b[?25h"
          ]
        }
      ]
    },
    {
      "cell_type": "code",
      "source": [
        "import zipfile\n",
        "import pandas as pd\n",
        "import numpy as np\n",
        "import matplotlib.pyplot as plt\n",
        "import keras_tuner as kt\n",
        "from google.colab import drive\n",
        "from tensorflow.keras.preprocessing import image_dataset_from_directory\n",
        "from tensorflow.keras import Sequential, layers, initializers, regularizers, optimizers, metrics\n",
        "from tensorflow.keras.callbacks import EarlyStopping\n",
        "from tensorflow.keras.models import load_model"
      ],
      "metadata": {
        "id": "OhQmBHCoqBTL"
      },
      "execution_count": 100,
      "outputs": []
    },
    {
      "cell_type": "code",
      "source": [
        "drive.mount('/content/drive')"
      ],
      "metadata": {
        "id": "AzA-2Zx4rZxB"
      },
      "execution_count": null,
      "outputs": []
    },
    {
      "cell_type": "code",
      "source": [
        "image_size = (128, 128)\n",
        "crop_to_aspect_ratio = False\n",
        "labels='inferred'\n",
        "color_mode=\"rgb\"\n",
        "batch_size=16\n",
        "label_mode=\"categorical\"\n",
        "shuffle=True\n",
        "seed=42"
      ],
      "metadata": {
        "id": "pT2sw8B_rPXC"
      },
      "execution_count": null,
      "outputs": []
    },
    {
      "cell_type": "code",
      "source": [
        "ds_train = image_dataset_from_directory(\"/content/drive/MyDrive/Uni/DL/Project/datasets/datasets/train\",\n",
        "                                        labels=labels,\n",
        "                                        image_size=image_size,\n",
        "                                        crop_to_aspect_ratio=crop_to_aspect_ratio,\n",
        "                                        color_mode=color_mode,\n",
        "                                        batch_size=batch_size,\n",
        "                                        label_mode=label_mode,\n",
        "                                        shuffle=shuffle,\n",
        "                                        seed=seed\n",
        "                                        )\n",
        "\n",
        "ds_validation = image_dataset_from_directory(\"/content/drive/MyDrive/Uni/DL/Project/datasets/datasets/validation\",\n",
        "                                             labels=labels,\n",
        "                                             image_size=image_size,\n",
        "                                             crop_to_aspect_ratio=crop_to_aspect_ratio,\n",
        "                                             color_mode=color_mode,\n",
        "                                             batch_size=batch_size,\n",
        "                                             label_mode=label_mode,\n",
        "                                             shuffle=shuffle,\n",
        "                                             seed=seed\n",
        "                                             )\n",
        "\n",
        "ds_test = image_dataset_from_directory(\"/content/drive/MyDrive/Uni/DL/Project/datasets/datasets/test\",\n",
        "                                       labels=labels, \n",
        "                                       image_size=image_size,\n",
        "                                       crop_to_aspect_ratio=crop_to_aspect_ratio,\n",
        "                                       color_mode=color_mode,\n",
        "                                       batch_size=batch_size,\n",
        "                                       label_mode=label_mode,\n",
        "                                       shuffle=shuffle,\n",
        "                                       seed=seed\n",
        "                                       )"
      ],
      "metadata": {
        "id": "wtGs60TEpT0c",
        "outputId": "b146c29c-ac6d-46d2-bae6-5e452148eb15",
        "colab": {
          "base_uri": "https://localhost:8080/"
        }
      },
      "execution_count": 5,
      "outputs": [
        {
          "output_type": "stream",
          "name": "stdout",
          "text": [
            "Found 1034 files belonging to 3 classes.\n",
            "Found 133 files belonging to 3 classes.\n",
            "Found 128 files belonging to 3 classes.\n"
          ]
        }
      ]
    },
    {
      "cell_type": "code",
      "source": [
        "input_shape = tuple(iter(ds_train).next()[0].shape[1:])"
      ],
      "metadata": {
        "id": "JIW9exXeqjK3"
      },
      "execution_count": 6,
      "outputs": []
    },
    {
      "cell_type": "code",
      "source": [
        "augmentation = Sequential([layers.RandomFlip(), \n",
        "                           layers.RandomRotation(factor=0.2), \n",
        "                           layers.RandomZoom(height_factor=0.1, width_factor=0.1),\n",
        "                           layers.RandomContrast(factor=0.3),\n",
        "                           layers.RandomBrightness(factor=0.3),\n",
        "                           layers.RandomTranslation(height_factor=(-0.1, 0.1), width_factor=(-0.1, 0.1))], \n",
        "                           name=\"my_augmentation_pipeline\")\n",
        "# maybe we can explore different factors"
      ],
      "metadata": {
        "id": "O6gD9a3epTJT"
      },
      "execution_count": 7,
      "outputs": []
    },
    {
      "cell_type": "markdown",
      "source": [
        "----------------------------------------------"
      ],
      "metadata": {
        "id": "BT8zsO-uKV5y"
      }
    },
    {
      "cell_type": "code",
      "source": [
        "def model_builder2(hp):\n",
        "    cnn = Sequential([# Input layer\n",
        "        layers.Input((128,128,3)),\n",
        "        # Data augmentation\n",
        "        augmentation,\n",
        "        # Data preprocessing\n",
        "        layers.Rescaling(1./255),\n",
        "        # 1st convLayer\n",
        "        layers.Conv2D(\n",
        "            filters=hp.Int('conv_1_num_filters', min_value=8, max_value=128, step=8),\n",
        "            kernel_size=hp.Choice('conv_1_kernel_size', values = [2,3,4,5,6,7,8]),\n",
        "            kernel_initializer=initializers.GlorotNormal(seed=42)\n",
        "        ),\n",
        "        layers.Activation(hp.Choice('1_activation', values=['relu', 'softmax', 'sigmoid'])),\n",
        "        layers.MaxPooling2D(pool_size=hp.Choice('1_pool_size', values = [2,3,4])),\n",
        "        # 2nd convLayer\n",
        "        layers.Conv2D(\n",
        "            filters=hp.Int('conv_2_num_filters', min_value=16, max_value=128, step=8),\n",
        "            kernel_size=hp.Choice('conv_2_kernel_size', values = [2,3,4,5,6,7,8]),\n",
        "            kernel_initializer=initializers.GlorotNormal(seed=42)\n",
        "        ),\n",
        "        layers.Activation(hp.Choice('2_activation', values=['relu', 'softmax', 'sigmoid'])),\n",
        "        layers.MaxPooling2D(pool_size=hp.Choice('2_pool_size', values = [2,3,4])),\n",
        "        # From a HxWxC cuboid to a (H*W*C) vector per image\n",
        "        layers.Flatten(),\n",
        "        # Classification (use units=n_classes, activation=\"softmax\" for multi-class)\n",
        "        layers.Dense(\n",
        "            units=3,\n",
        "            activation=hp.Choice('dense_activation', values=['relu', 'softmax', 'sigmoid']),\n",
        "            kernel_initializer=initializers.GlorotNormal(seed=42)\n",
        "        )\n",
        "    ], name=\"CNN-V2_5\")\n",
        "\n",
        "    hp_learning_rate = hp.Choice('learning_rate', values=[1e-2, 1e-3, 1e-4])\n",
        "\n",
        "    cnn.compile(loss=\"categorical_crossentropy\",\n",
        "    optimizer=hp.Choice('optimizer', values=['adam', 'rmsprop', 'sgd']),  \n",
        "    metrics=[\n",
        "            metrics.CategoricalAccuracy(name='categorical_accuracy'),\n",
        "            metrics.AUC(name='AUROC')\n",
        "          ]\n",
        "      )\n",
        "\n",
        "    return cnn"
      ],
      "metadata": {
        "id": "yowlTI3tKUwS"
      },
      "execution_count": 13,
      "outputs": []
    },
    {
      "cell_type": "code",
      "source": [
        "tuner2 = kt.Hyperband(\n",
        "    model_builder2,\n",
        "    objective='val_categorical_accuracy',\n",
        "    max_epochs=100,\n",
        "    factor=3,\n",
        "    directory='DL_project2',\n",
        "    project_name='DL_project2')"
      ],
      "metadata": {
        "id": "pdaS84UZKdiR"
      },
      "execution_count": 14,
      "outputs": []
    },
    {
      "cell_type": "code",
      "source": [
        "stop_early = EarlyStopping(monitor='val_categorical_accuracy', patience=10)"
      ],
      "metadata": {
        "id": "phVfvXYfKf4z"
      },
      "execution_count": 15,
      "outputs": []
    },
    {
      "cell_type": "code",
      "source": [
        "tuner2.search(ds_train, validation_data=ds_validation, epochs=100, callbacks=[stop_early])"
      ],
      "metadata": {
        "id": "vjdCJu36KiDD",
        "outputId": "2d169408-e4f0-4c4c-d347-6bd6f8e04baf",
        "colab": {
          "base_uri": "https://localhost:8080/"
        }
      },
      "execution_count": 16,
      "outputs": [
        {
          "output_type": "stream",
          "name": "stdout",
          "text": [
            "Trial 254 Complete [00h 00m 17s]\n",
            "val_categorical_accuracy: 0.3308270573616028\n",
            "\n",
            "Best val_categorical_accuracy So Far: 0.9172932505607605\n",
            "Total elapsed time: 00h 46m 00s\n"
          ]
        }
      ]
    },
    {
      "cell_type": "code",
      "source": [
        "best_hps2=tuner2.get_best_hyperparameters(num_trials=1)[0]\n",
        "\n"
      ],
      "metadata": {
        "id": "s-BRUVVSKmLp"
      },
      "execution_count": 18,
      "outputs": []
    },
    {
      "cell_type": "code",
      "source": [
        "model2 = tuner2.hypermodel.build(best_hps2)\n",
        "history2 = model2.fit(ds_train, epochs=100, validation_data=ds_validation, callbacks=[stop_early])\n",
        "\n",
        "val_acc_per_epoch2 = history2.history['val_categorical_accuracy']\n",
        "best_epoch2 = val_acc_per_epoch2.index(max(val_acc_per_epoch2)) + 1\n",
        "print('Best epoch: %d' % (best_epoch2,))"
      ],
      "metadata": {
        "id": "mYmtwHNRKrEP",
        "outputId": "215f81ec-6dc1-4cf8-8025-908171a1c1b9",
        "colab": {
          "base_uri": "https://localhost:8080/"
        }
      },
      "execution_count": 24,
      "outputs": [
        {
          "output_type": "stream",
          "name": "stdout",
          "text": [
            "Epoch 1/100\n",
            "65/65 [==============================] - 3s 20ms/step - loss: 1.1557 - categorical_accuracy: 0.4052 - AUROC: 0.5909 - val_loss: 0.9494 - val_categorical_accuracy: 0.5188 - val_AUROC: 0.7507\n",
            "Epoch 2/100\n",
            "65/65 [==============================] - 1s 17ms/step - loss: 0.9978 - categorical_accuracy: 0.5213 - AUROC: 0.6986 - val_loss: 1.1516 - val_categorical_accuracy: 0.4962 - val_AUROC: 0.7224\n",
            "Epoch 3/100\n",
            "65/65 [==============================] - 1s 17ms/step - loss: 0.9195 - categorical_accuracy: 0.5957 - AUROC: 0.7561 - val_loss: 0.9877 - val_categorical_accuracy: 0.5865 - val_AUROC: 0.7685\n",
            "Epoch 4/100\n",
            "65/65 [==============================] - 1s 16ms/step - loss: 0.8884 - categorical_accuracy: 0.5861 - AUROC: 0.7665 - val_loss: 0.6913 - val_categorical_accuracy: 0.6992 - val_AUROC: 0.8559\n",
            "Epoch 5/100\n",
            "65/65 [==============================] - 1s 16ms/step - loss: 0.8796 - categorical_accuracy: 0.6074 - AUROC: 0.7691 - val_loss: 0.9392 - val_categorical_accuracy: 0.5639 - val_AUROC: 0.7772\n",
            "Epoch 6/100\n",
            "65/65 [==============================] - 1s 16ms/step - loss: 0.8491 - categorical_accuracy: 0.6025 - AUROC: 0.7827 - val_loss: 0.8741 - val_categorical_accuracy: 0.6692 - val_AUROC: 0.8059\n",
            "Epoch 7/100\n",
            "65/65 [==============================] - 1s 16ms/step - loss: 0.8427 - categorical_accuracy: 0.6306 - AUROC: 0.7866 - val_loss: 0.7506 - val_categorical_accuracy: 0.6241 - val_AUROC: 0.8316\n",
            "Epoch 8/100\n",
            "65/65 [==============================] - 1s 17ms/step - loss: 0.8496 - categorical_accuracy: 0.6257 - AUROC: 0.7856 - val_loss: 0.7004 - val_categorical_accuracy: 0.6767 - val_AUROC: 0.8532\n",
            "Epoch 9/100\n",
            "65/65 [==============================] - 1s 16ms/step - loss: 0.8340 - categorical_accuracy: 0.6373 - AUROC: 0.7934 - val_loss: 0.6913 - val_categorical_accuracy: 0.6992 - val_AUROC: 0.8603\n",
            "Epoch 10/100\n",
            "65/65 [==============================] - 1s 16ms/step - loss: 0.8457 - categorical_accuracy: 0.6219 - AUROC: 0.7835 - val_loss: 3.1052 - val_categorical_accuracy: 0.3835 - val_AUROC: 0.6419\n",
            "Epoch 11/100\n",
            "65/65 [==============================] - 1s 16ms/step - loss: 0.8582 - categorical_accuracy: 0.6422 - AUROC: 0.7837 - val_loss: 0.6624 - val_categorical_accuracy: 0.6992 - val_AUROC: 0.8568\n",
            "Epoch 12/100\n",
            "65/65 [==============================] - 1s 18ms/step - loss: 0.8186 - categorical_accuracy: 0.6354 - AUROC: 0.7900 - val_loss: 0.7329 - val_categorical_accuracy: 0.6391 - val_AUROC: 0.8420\n",
            "Epoch 13/100\n",
            "65/65 [==============================] - 1s 17ms/step - loss: 0.8072 - categorical_accuracy: 0.6557 - AUROC: 0.8034 - val_loss: 0.8555 - val_categorical_accuracy: 0.6466 - val_AUROC: 0.8365\n",
            "Epoch 14/100\n",
            "65/65 [==============================] - 1s 16ms/step - loss: 0.8535 - categorical_accuracy: 0.6431 - AUROC: 0.7940 - val_loss: 0.6661 - val_categorical_accuracy: 0.7293 - val_AUROC: 0.8617\n",
            "Epoch 15/100\n",
            "65/65 [==============================] - 1s 16ms/step - loss: 0.7613 - categorical_accuracy: 0.6644 - AUROC: 0.8133 - val_loss: 0.6363 - val_categorical_accuracy: 0.7218 - val_AUROC: 0.8696\n",
            "Epoch 16/100\n",
            "65/65 [==============================] - 1s 16ms/step - loss: 0.7797 - categorical_accuracy: 0.6634 - AUROC: 0.8083 - val_loss: 0.7271 - val_categorical_accuracy: 0.6466 - val_AUROC: 0.8370\n",
            "Epoch 17/100\n",
            "65/65 [==============================] - 1s 16ms/step - loss: 0.7785 - categorical_accuracy: 0.6692 - AUROC: 0.8055 - val_loss: 0.8540 - val_categorical_accuracy: 0.6015 - val_AUROC: 0.7995\n",
            "Epoch 18/100\n",
            "65/65 [==============================] - 1s 16ms/step - loss: 0.7656 - categorical_accuracy: 0.6663 - AUROC: 0.8123 - val_loss: 0.6760 - val_categorical_accuracy: 0.6767 - val_AUROC: 0.8565\n",
            "Epoch 19/100\n",
            "65/65 [==============================] - 1s 16ms/step - loss: 0.7642 - categorical_accuracy: 0.6673 - AUROC: 0.8063 - val_loss: 0.7378 - val_categorical_accuracy: 0.7068 - val_AUROC: 0.8609\n",
            "Epoch 20/100\n",
            "65/65 [==============================] - 1s 16ms/step - loss: 0.7697 - categorical_accuracy: 0.6702 - AUROC: 0.8109 - val_loss: 0.5689 - val_categorical_accuracy: 0.7594 - val_AUROC: 0.8789\n",
            "Epoch 21/100\n",
            "65/65 [==============================] - 1s 16ms/step - loss: 0.7659 - categorical_accuracy: 0.6876 - AUROC: 0.7994 - val_loss: 0.6307 - val_categorical_accuracy: 0.7143 - val_AUROC: 0.8598\n",
            "Epoch 22/100\n",
            "65/65 [==============================] - 1s 16ms/step - loss: 0.7614 - categorical_accuracy: 0.6683 - AUROC: 0.8024 - val_loss: 0.6010 - val_categorical_accuracy: 0.7218 - val_AUROC: 0.8754\n",
            "Epoch 23/100\n",
            "65/65 [==============================] - 1s 17ms/step - loss: 0.7382 - categorical_accuracy: 0.6779 - AUROC: 0.8130 - val_loss: 0.6452 - val_categorical_accuracy: 0.7293 - val_AUROC: 0.8667\n",
            "Epoch 24/100\n",
            "65/65 [==============================] - 1s 17ms/step - loss: 0.7519 - categorical_accuracy: 0.6605 - AUROC: 0.8001 - val_loss: 0.7022 - val_categorical_accuracy: 0.6917 - val_AUROC: 0.8639\n",
            "Epoch 25/100\n",
            "65/65 [==============================] - 1s 16ms/step - loss: 0.7075 - categorical_accuracy: 0.6857 - AUROC: 0.8155 - val_loss: 0.5520 - val_categorical_accuracy: 0.7820 - val_AUROC: 0.8891\n",
            "Epoch 26/100\n",
            "65/65 [==============================] - 1s 16ms/step - loss: 0.7162 - categorical_accuracy: 0.6818 - AUROC: 0.8138 - val_loss: 0.5328 - val_categorical_accuracy: 0.7970 - val_AUROC: 0.8876\n",
            "Epoch 27/100\n",
            "65/65 [==============================] - 1s 16ms/step - loss: 0.7142 - categorical_accuracy: 0.6867 - AUROC: 0.8097 - val_loss: 0.8354 - val_categorical_accuracy: 0.6015 - val_AUROC: 0.7959\n",
            "Epoch 28/100\n",
            "65/65 [==============================] - 1s 16ms/step - loss: 0.7270 - categorical_accuracy: 0.6896 - AUROC: 0.8034 - val_loss: 0.6241 - val_categorical_accuracy: 0.7143 - val_AUROC: 0.8646\n",
            "Epoch 29/100\n",
            "65/65 [==============================] - 1s 17ms/step - loss: 0.6962 - categorical_accuracy: 0.7002 - AUROC: 0.8170 - val_loss: 0.5720 - val_categorical_accuracy: 0.7669 - val_AUROC: 0.8842\n",
            "Epoch 30/100\n",
            "65/65 [==============================] - 1s 16ms/step - loss: 0.7025 - categorical_accuracy: 0.6983 - AUROC: 0.8062 - val_loss: 0.5496 - val_categorical_accuracy: 0.7594 - val_AUROC: 0.8734\n",
            "Epoch 31/100\n",
            "65/65 [==============================] - 1s 16ms/step - loss: 0.6936 - categorical_accuracy: 0.7215 - AUROC: 0.8119 - val_loss: 0.9381 - val_categorical_accuracy: 0.6617 - val_AUROC: 0.8117\n",
            "Epoch 32/100\n",
            "65/65 [==============================] - 1s 16ms/step - loss: 0.6533 - categorical_accuracy: 0.7215 - AUROC: 0.8195 - val_loss: 0.5319 - val_categorical_accuracy: 0.7820 - val_AUROC: 0.8872\n",
            "Epoch 33/100\n",
            "65/65 [==============================] - 1s 17ms/step - loss: 0.6824 - categorical_accuracy: 0.7108 - AUROC: 0.8184 - val_loss: 0.6226 - val_categorical_accuracy: 0.7293 - val_AUROC: 0.8641\n",
            "Epoch 34/100\n",
            "65/65 [==============================] - 1s 17ms/step - loss: 0.6970 - categorical_accuracy: 0.7128 - AUROC: 0.8037 - val_loss: 0.5041 - val_categorical_accuracy: 0.7594 - val_AUROC: 0.8926\n",
            "Epoch 35/100\n",
            "65/65 [==============================] - 1s 17ms/step - loss: 0.6242 - categorical_accuracy: 0.7398 - AUROC: 0.8254 - val_loss: 0.4274 - val_categorical_accuracy: 0.8271 - val_AUROC: 0.8845\n",
            "Epoch 36/100\n",
            "65/65 [==============================] - 1s 16ms/step - loss: 0.6258 - categorical_accuracy: 0.7398 - AUROC: 0.8134 - val_loss: 0.6067 - val_categorical_accuracy: 0.7519 - val_AUROC: 0.8661\n",
            "Epoch 37/100\n",
            "65/65 [==============================] - 1s 16ms/step - loss: 0.6507 - categorical_accuracy: 0.7311 - AUROC: 0.8054 - val_loss: 0.4996 - val_categorical_accuracy: 0.7820 - val_AUROC: 0.8775\n",
            "Epoch 38/100\n",
            "65/65 [==============================] - 1s 16ms/step - loss: 0.6469 - categorical_accuracy: 0.7418 - AUROC: 0.8228 - val_loss: 0.6532 - val_categorical_accuracy: 0.7293 - val_AUROC: 0.8443\n",
            "Epoch 39/100\n",
            "65/65 [==============================] - 1s 16ms/step - loss: 0.6554 - categorical_accuracy: 0.7311 - AUROC: 0.8188 - val_loss: 0.4378 - val_categorical_accuracy: 0.8346 - val_AUROC: 0.8921\n",
            "Epoch 40/100\n",
            "65/65 [==============================] - 1s 16ms/step - loss: 0.6682 - categorical_accuracy: 0.7524 - AUROC: 0.8226 - val_loss: 0.4197 - val_categorical_accuracy: 0.8271 - val_AUROC: 0.8904\n",
            "Epoch 41/100\n",
            "65/65 [==============================] - 1s 16ms/step - loss: 0.6009 - categorical_accuracy: 0.7563 - AUROC: 0.8320 - val_loss: 0.4168 - val_categorical_accuracy: 0.8271 - val_AUROC: 0.9001\n",
            "Epoch 42/100\n",
            "65/65 [==============================] - 1s 16ms/step - loss: 0.6280 - categorical_accuracy: 0.7456 - AUROC: 0.8136 - val_loss: 0.7118 - val_categorical_accuracy: 0.7368 - val_AUROC: 0.8560\n",
            "Epoch 43/100\n",
            "65/65 [==============================] - 1s 16ms/step - loss: 0.5986 - categorical_accuracy: 0.7515 - AUROC: 0.8226 - val_loss: 0.3337 - val_categorical_accuracy: 0.8421 - val_AUROC: 0.8943\n",
            "Epoch 44/100\n",
            "65/65 [==============================] - 1s 17ms/step - loss: 0.5851 - categorical_accuracy: 0.7650 - AUROC: 0.8280 - val_loss: 0.4147 - val_categorical_accuracy: 0.8120 - val_AUROC: 0.8682\n",
            "Epoch 45/100\n",
            "65/65 [==============================] - 1s 17ms/step - loss: 0.6497 - categorical_accuracy: 0.7505 - AUROC: 0.8100 - val_loss: 0.4678 - val_categorical_accuracy: 0.8195 - val_AUROC: 0.8867\n",
            "Epoch 46/100\n",
            "65/65 [==============================] - 1s 17ms/step - loss: 0.5782 - categorical_accuracy: 0.7660 - AUROC: 0.8200 - val_loss: 0.5346 - val_categorical_accuracy: 0.7895 - val_AUROC: 0.8785\n",
            "Epoch 47/100\n",
            "65/65 [==============================] - 1s 16ms/step - loss: 0.5731 - categorical_accuracy: 0.7573 - AUROC: 0.8133 - val_loss: 0.4980 - val_categorical_accuracy: 0.8120 - val_AUROC: 0.8680\n",
            "Epoch 48/100\n",
            "65/65 [==============================] - 1s 16ms/step - loss: 0.5707 - categorical_accuracy: 0.7679 - AUROC: 0.8138 - val_loss: 0.3788 - val_categorical_accuracy: 0.8195 - val_AUROC: 0.8978\n",
            "Epoch 49/100\n",
            "65/65 [==============================] - 1s 16ms/step - loss: 0.5426 - categorical_accuracy: 0.7698 - AUROC: 0.8244 - val_loss: 0.4417 - val_categorical_accuracy: 0.8346 - val_AUROC: 0.8531\n",
            "Epoch 50/100\n",
            "65/65 [==============================] - 1s 16ms/step - loss: 0.5432 - categorical_accuracy: 0.7872 - AUROC: 0.8142 - val_loss: 0.4689 - val_categorical_accuracy: 0.8346 - val_AUROC: 0.8602\n",
            "Epoch 51/100\n",
            "65/65 [==============================] - 1s 16ms/step - loss: 0.5399 - categorical_accuracy: 0.7911 - AUROC: 0.8300 - val_loss: 1.0923 - val_categorical_accuracy: 0.6015 - val_AUROC: 0.7474\n",
            "Epoch 52/100\n",
            "65/65 [==============================] - 1s 16ms/step - loss: 0.5385 - categorical_accuracy: 0.7863 - AUROC: 0.8245 - val_loss: 0.3316 - val_categorical_accuracy: 0.8722 - val_AUROC: 0.8883\n",
            "Epoch 53/100\n",
            "65/65 [==============================] - 1s 16ms/step - loss: 0.6024 - categorical_accuracy: 0.7785 - AUROC: 0.8095 - val_loss: 0.3571 - val_categorical_accuracy: 0.8346 - val_AUROC: 0.8993\n",
            "Epoch 54/100\n",
            "65/65 [==============================] - 1s 17ms/step - loss: 0.5502 - categorical_accuracy: 0.7776 - AUROC: 0.8197 - val_loss: 0.4231 - val_categorical_accuracy: 0.8496 - val_AUROC: 0.8825\n",
            "Epoch 55/100\n",
            "65/65 [==============================] - 1s 17ms/step - loss: 0.5527 - categorical_accuracy: 0.7747 - AUROC: 0.8261 - val_loss: 0.3468 - val_categorical_accuracy: 0.8947 - val_AUROC: 0.8892\n",
            "Epoch 56/100\n",
            "65/65 [==============================] - 1s 17ms/step - loss: 0.5580 - categorical_accuracy: 0.7979 - AUROC: 0.8211 - val_loss: 0.3418 - val_categorical_accuracy: 0.8346 - val_AUROC: 0.8928\n",
            "Epoch 57/100\n",
            "65/65 [==============================] - 1s 16ms/step - loss: 0.5584 - categorical_accuracy: 0.7814 - AUROC: 0.8261 - val_loss: 0.3582 - val_categorical_accuracy: 0.8797 - val_AUROC: 0.8554\n",
            "Epoch 58/100\n",
            "65/65 [==============================] - 1s 16ms/step - loss: 0.5237 - categorical_accuracy: 0.7921 - AUROC: 0.8219 - val_loss: 0.3983 - val_categorical_accuracy: 0.8421 - val_AUROC: 0.8750\n",
            "Epoch 59/100\n",
            "65/65 [==============================] - 1s 16ms/step - loss: 0.5543 - categorical_accuracy: 0.7843 - AUROC: 0.8303 - val_loss: 0.3399 - val_categorical_accuracy: 0.8722 - val_AUROC: 0.8840\n",
            "Epoch 60/100\n",
            "65/65 [==============================] - 1s 16ms/step - loss: 0.5307 - categorical_accuracy: 0.7785 - AUROC: 0.8358 - val_loss: 0.2828 - val_categorical_accuracy: 0.8872 - val_AUROC: 0.9165\n",
            "Epoch 61/100\n",
            "65/65 [==============================] - 1s 16ms/step - loss: 0.4689 - categorical_accuracy: 0.8037 - AUROC: 0.8448 - val_loss: 0.3065 - val_categorical_accuracy: 0.8722 - val_AUROC: 0.9174\n",
            "Epoch 62/100\n",
            "65/65 [==============================] - 1s 16ms/step - loss: 0.5507 - categorical_accuracy: 0.7805 - AUROC: 0.8371 - val_loss: 0.3179 - val_categorical_accuracy: 0.8872 - val_AUROC: 0.9094\n",
            "Epoch 63/100\n",
            "65/65 [==============================] - 1s 16ms/step - loss: 0.5803 - categorical_accuracy: 0.7863 - AUROC: 0.8250 - val_loss: 0.3483 - val_categorical_accuracy: 0.8947 - val_AUROC: 0.8964\n",
            "Epoch 64/100\n",
            "65/65 [==============================] - 1s 16ms/step - loss: 0.5015 - categorical_accuracy: 0.7988 - AUROC: 0.8435 - val_loss: 0.3101 - val_categorical_accuracy: 0.8797 - val_AUROC: 0.8713\n",
            "Epoch 65/100\n",
            "65/65 [==============================] - 1s 17ms/step - loss: 0.4956 - categorical_accuracy: 0.8037 - AUROC: 0.8314 - val_loss: 0.2639 - val_categorical_accuracy: 0.9098 - val_AUROC: 0.8999\n",
            "Epoch 66/100\n",
            "65/65 [==============================] - 1s 17ms/step - loss: 0.5338 - categorical_accuracy: 0.8046 - AUROC: 0.8271 - val_loss: 0.3362 - val_categorical_accuracy: 0.8722 - val_AUROC: 0.8961\n",
            "Epoch 67/100\n",
            "65/65 [==============================] - 1s 17ms/step - loss: 0.5161 - categorical_accuracy: 0.7853 - AUROC: 0.8148 - val_loss: 0.4568 - val_categorical_accuracy: 0.7970 - val_AUROC: 0.8995\n",
            "Epoch 68/100\n",
            "65/65 [==============================] - 1s 16ms/step - loss: 0.4897 - categorical_accuracy: 0.8124 - AUROC: 0.8328 - val_loss: 0.2348 - val_categorical_accuracy: 0.9023 - val_AUROC: 0.8748\n",
            "Epoch 69/100\n",
            "65/65 [==============================] - 1s 16ms/step - loss: 0.5136 - categorical_accuracy: 0.7930 - AUROC: 0.8144 - val_loss: 0.3641 - val_categorical_accuracy: 0.8722 - val_AUROC: 0.8646\n",
            "Epoch 70/100\n",
            "65/65 [==============================] - 1s 16ms/step - loss: 0.5248 - categorical_accuracy: 0.8066 - AUROC: 0.8092 - val_loss: 0.3155 - val_categorical_accuracy: 0.8571 - val_AUROC: 0.8651\n",
            "Epoch 71/100\n",
            "65/65 [==============================] - 1s 17ms/step - loss: 0.4866 - categorical_accuracy: 0.7988 - AUROC: 0.7955 - val_loss: 0.2933 - val_categorical_accuracy: 0.8947 - val_AUROC: 0.8867\n",
            "Epoch 72/100\n",
            "65/65 [==============================] - 1s 16ms/step - loss: 0.5390 - categorical_accuracy: 0.7795 - AUROC: 0.8084 - val_loss: 0.3072 - val_categorical_accuracy: 0.8797 - val_AUROC: 0.8718\n",
            "Epoch 73/100\n",
            "65/65 [==============================] - 1s 16ms/step - loss: 0.5334 - categorical_accuracy: 0.7863 - AUROC: 0.8052 - val_loss: 0.2442 - val_categorical_accuracy: 0.8872 - val_AUROC: 0.9029\n",
            "Epoch 74/100\n",
            "65/65 [==============================] - 1s 16ms/step - loss: 0.4964 - categorical_accuracy: 0.8008 - AUROC: 0.8166 - val_loss: 0.2750 - val_categorical_accuracy: 0.8872 - val_AUROC: 0.7849\n",
            "Epoch 75/100\n",
            "65/65 [==============================] - 1s 16ms/step - loss: 0.4740 - categorical_accuracy: 0.8172 - AUROC: 0.7979 - val_loss: 0.2539 - val_categorical_accuracy: 0.8872 - val_AUROC: 0.8843\n",
            "Best epoch: 65\n"
          ]
        }
      ]
    },
    {
      "cell_type": "code",
      "source": [
        "best_hps2.values"
      ],
      "metadata": {
        "id": "f_-MK3VI0Oxz",
        "outputId": "9d000ca0-193b-41d3-fc18-abe8c6457fb3",
        "colab": {
          "base_uri": "https://localhost:8080/"
        }
      },
      "execution_count": 39,
      "outputs": [
        {
          "output_type": "execute_result",
          "data": {
            "text/plain": [
              "{'conv_1_num_filters': 16,\n",
              " 'conv_1_kernel_size': 6,\n",
              " '1_activation': 'relu',\n",
              " '1_pool_size': 2,\n",
              " 'conv_2_num_filters': 56,\n",
              " 'conv_2_kernel_size': 6,\n",
              " '2_activation': 'relu',\n",
              " '2_pool_size': 4,\n",
              " 'dense_activation': 'sigmoid',\n",
              " 'learning_rate': 0.0001,\n",
              " 'optimizer': 'rmsprop',\n",
              " 'tuner/epochs': 100,\n",
              " 'tuner/initial_epoch': 34,\n",
              " 'tuner/bracket': 3,\n",
              " 'tuner/round': 3,\n",
              " 'tuner/trial_id': '0206'}"
            ]
          },
          "metadata": {},
          "execution_count": 39
        }
      ]
    },
    {
      "cell_type": "code",
      "source": [
        "best_epoch2"
      ],
      "metadata": {
        "id": "1OMU0nlR0fGU",
        "outputId": "9f7a6f51-dfcc-4a80-b324-73d790b00f5d",
        "colab": {
          "base_uri": "https://localhost:8080/"
        }
      },
      "execution_count": 41,
      "outputs": [
        {
          "output_type": "execute_result",
          "data": {
            "text/plain": [
              "65"
            ]
          },
          "metadata": {},
          "execution_count": 41
        }
      ]
    },
    {
      "cell_type": "code",
      "source": [
        "stop_early_final = EarlyStopping(monitor='val_categorical_accuracy', patience=15)"
      ],
      "metadata": {
        "id": "na5TNgBp0sTP"
      },
      "execution_count": 76,
      "outputs": []
    },
    {
      "cell_type": "code",
      "source": [
        "hypermodel2 = tuner2.hypermodel.build(best_hps2)\n",
        "\n",
        "# Retrain the model\n",
        "history = hypermodel2.fit(ds_train, epochs=100, validation_data=ds_validation, callbacks=[stop_early_final])\n"
      ],
      "metadata": {
        "id": "YVWt0DWXKs1n",
        "outputId": "80754a29-f48d-45c2-ce56-9b42196e91df",
        "colab": {
          "base_uri": "https://localhost:8080/"
        }
      },
      "execution_count": 77,
      "outputs": [
        {
          "output_type": "stream",
          "name": "stdout",
          "text": [
            "Epoch 1/100\n",
            "65/65 [==============================] - 3s 20ms/step - loss: 1.1310 - categorical_accuracy: 0.3985 - AUROC: 0.5831 - val_loss: 0.9659 - val_categorical_accuracy: 0.5188 - val_AUROC: 0.7390\n",
            "Epoch 2/100\n",
            "65/65 [==============================] - 1s 18ms/step - loss: 1.0069 - categorical_accuracy: 0.5426 - AUROC: 0.7092 - val_loss: 0.7819 - val_categorical_accuracy: 0.6541 - val_AUROC: 0.8086\n",
            "Epoch 3/100\n",
            "65/65 [==============================] - 1s 16ms/step - loss: 0.8994 - categorical_accuracy: 0.5812 - AUROC: 0.7431 - val_loss: 0.7790 - val_categorical_accuracy: 0.6767 - val_AUROC: 0.8251\n",
            "Epoch 4/100\n",
            "65/65 [==============================] - 1s 17ms/step - loss: 0.8755 - categorical_accuracy: 0.5928 - AUROC: 0.7573 - val_loss: 0.9943 - val_categorical_accuracy: 0.5338 - val_AUROC: 0.7648\n",
            "Epoch 5/100\n",
            "65/65 [==============================] - 1s 17ms/step - loss: 0.8779 - categorical_accuracy: 0.5841 - AUROC: 0.7599 - val_loss: 0.7227 - val_categorical_accuracy: 0.6992 - val_AUROC: 0.8403\n",
            "Epoch 6/100\n",
            "65/65 [==============================] - 1s 16ms/step - loss: 0.8475 - categorical_accuracy: 0.6257 - AUROC: 0.7719 - val_loss: 0.6649 - val_categorical_accuracy: 0.7143 - val_AUROC: 0.8563\n",
            "Epoch 7/100\n",
            "65/65 [==============================] - 1s 16ms/step - loss: 0.8604 - categorical_accuracy: 0.6257 - AUROC: 0.7731 - val_loss: 0.6798 - val_categorical_accuracy: 0.7293 - val_AUROC: 0.8384\n",
            "Epoch 8/100\n",
            "65/65 [==============================] - 1s 17ms/step - loss: 0.8365 - categorical_accuracy: 0.6248 - AUROC: 0.7804 - val_loss: 0.7070 - val_categorical_accuracy: 0.6917 - val_AUROC: 0.8470\n",
            "Epoch 9/100\n",
            "65/65 [==============================] - 1s 16ms/step - loss: 0.8249 - categorical_accuracy: 0.6373 - AUROC: 0.7819 - val_loss: 0.7427 - val_categorical_accuracy: 0.6541 - val_AUROC: 0.8324\n",
            "Epoch 10/100\n",
            "65/65 [==============================] - 1s 16ms/step - loss: 0.8045 - categorical_accuracy: 0.6422 - AUROC: 0.7876 - val_loss: 0.7383 - val_categorical_accuracy: 0.6617 - val_AUROC: 0.8405\n",
            "Epoch 11/100\n",
            "65/65 [==============================] - 1s 16ms/step - loss: 0.8210 - categorical_accuracy: 0.6354 - AUROC: 0.7828 - val_loss: 0.6897 - val_categorical_accuracy: 0.6917 - val_AUROC: 0.8578\n",
            "Epoch 12/100\n",
            "65/65 [==============================] - 1s 17ms/step - loss: 0.7878 - categorical_accuracy: 0.6547 - AUROC: 0.8010 - val_loss: 0.8070 - val_categorical_accuracy: 0.6541 - val_AUROC: 0.8402\n",
            "Epoch 13/100\n",
            "65/65 [==============================] - 1s 16ms/step - loss: 0.7798 - categorical_accuracy: 0.6692 - AUROC: 0.8011 - val_loss: 0.8093 - val_categorical_accuracy: 0.6541 - val_AUROC: 0.8371\n",
            "Epoch 14/100\n",
            "65/65 [==============================] - 1s 17ms/step - loss: 0.7857 - categorical_accuracy: 0.6538 - AUROC: 0.7955 - val_loss: 0.6178 - val_categorical_accuracy: 0.7368 - val_AUROC: 0.8667\n",
            "Epoch 15/100\n",
            "65/65 [==============================] - 1s 17ms/step - loss: 0.7873 - categorical_accuracy: 0.6509 - AUROC: 0.8029 - val_loss: 0.6394 - val_categorical_accuracy: 0.6917 - val_AUROC: 0.8599\n",
            "Epoch 16/100\n",
            "65/65 [==============================] - 1s 17ms/step - loss: 0.7612 - categorical_accuracy: 0.6625 - AUROC: 0.8062 - val_loss: 0.6432 - val_categorical_accuracy: 0.7143 - val_AUROC: 0.8561\n",
            "Epoch 17/100\n",
            "65/65 [==============================] - 1s 16ms/step - loss: 0.7424 - categorical_accuracy: 0.6741 - AUROC: 0.8120 - val_loss: 0.6311 - val_categorical_accuracy: 0.7368 - val_AUROC: 0.8450\n",
            "Epoch 18/100\n",
            "65/65 [==============================] - 1s 16ms/step - loss: 0.7532 - categorical_accuracy: 0.6731 - AUROC: 0.8064 - val_loss: 0.5575 - val_categorical_accuracy: 0.7820 - val_AUROC: 0.8868\n",
            "Epoch 19/100\n",
            "65/65 [==============================] - 1s 16ms/step - loss: 0.7425 - categorical_accuracy: 0.6818 - AUROC: 0.8103 - val_loss: 0.6409 - val_categorical_accuracy: 0.7293 - val_AUROC: 0.8541\n",
            "Epoch 20/100\n",
            "65/65 [==============================] - 1s 16ms/step - loss: 0.7272 - categorical_accuracy: 0.6896 - AUROC: 0.8154 - val_loss: 0.9351 - val_categorical_accuracy: 0.6391 - val_AUROC: 0.7747\n",
            "Epoch 21/100\n",
            "65/65 [==============================] - 1s 16ms/step - loss: 0.7165 - categorical_accuracy: 0.6992 - AUROC: 0.8240 - val_loss: 0.7356 - val_categorical_accuracy: 0.7068 - val_AUROC: 0.8619\n",
            "Epoch 22/100\n",
            "65/65 [==============================] - 1s 16ms/step - loss: 0.7194 - categorical_accuracy: 0.6925 - AUROC: 0.8198 - val_loss: 0.5897 - val_categorical_accuracy: 0.7669 - val_AUROC: 0.8655\n",
            "Epoch 23/100\n",
            "65/65 [==============================] - 1s 16ms/step - loss: 0.7170 - categorical_accuracy: 0.6857 - AUROC: 0.8156 - val_loss: 0.6866 - val_categorical_accuracy: 0.6842 - val_AUROC: 0.8524\n",
            "Epoch 24/100\n",
            "65/65 [==============================] - 1s 16ms/step - loss: 0.6978 - categorical_accuracy: 0.7137 - AUROC: 0.8304 - val_loss: 0.5021 - val_categorical_accuracy: 0.7820 - val_AUROC: 0.8910\n",
            "Epoch 25/100\n",
            "65/65 [==============================] - 1s 17ms/step - loss: 0.6878 - categorical_accuracy: 0.7108 - AUROC: 0.8232 - val_loss: 0.6162 - val_categorical_accuracy: 0.7218 - val_AUROC: 0.8538\n",
            "Epoch 26/100\n",
            "65/65 [==============================] - 1s 17ms/step - loss: 0.6935 - categorical_accuracy: 0.7079 - AUROC: 0.8288 - val_loss: 0.4767 - val_categorical_accuracy: 0.8271 - val_AUROC: 0.8910\n",
            "Epoch 27/100\n",
            "65/65 [==============================] - 1s 17ms/step - loss: 0.7022 - categorical_accuracy: 0.6992 - AUROC: 0.8182 - val_loss: 0.5257 - val_categorical_accuracy: 0.7594 - val_AUROC: 0.8751\n",
            "Epoch 28/100\n",
            "65/65 [==============================] - 1s 16ms/step - loss: 0.6477 - categorical_accuracy: 0.7263 - AUROC: 0.8340 - val_loss: 0.5078 - val_categorical_accuracy: 0.8045 - val_AUROC: 0.8747\n",
            "Epoch 29/100\n",
            "65/65 [==============================] - 1s 16ms/step - loss: 0.6597 - categorical_accuracy: 0.7311 - AUROC: 0.8293 - val_loss: 0.6653 - val_categorical_accuracy: 0.6541 - val_AUROC: 0.8691\n",
            "Epoch 30/100\n",
            "65/65 [==============================] - 1s 16ms/step - loss: 0.6435 - categorical_accuracy: 0.7263 - AUROC: 0.8316 - val_loss: 0.4885 - val_categorical_accuracy: 0.8045 - val_AUROC: 0.8938\n",
            "Epoch 31/100\n",
            "65/65 [==============================] - 1s 16ms/step - loss: 0.6487 - categorical_accuracy: 0.7389 - AUROC: 0.8303 - val_loss: 0.5115 - val_categorical_accuracy: 0.7820 - val_AUROC: 0.8899\n",
            "Epoch 32/100\n",
            "65/65 [==============================] - 1s 16ms/step - loss: 0.6469 - categorical_accuracy: 0.7215 - AUROC: 0.8241 - val_loss: 0.4932 - val_categorical_accuracy: 0.7895 - val_AUROC: 0.8829\n",
            "Epoch 33/100\n",
            "65/65 [==============================] - 1s 16ms/step - loss: 0.6039 - categorical_accuracy: 0.7447 - AUROC: 0.8390 - val_loss: 0.5439 - val_categorical_accuracy: 0.7444 - val_AUROC: 0.8790\n",
            "Epoch 34/100\n",
            "65/65 [==============================] - 1s 16ms/step - loss: 0.6393 - categorical_accuracy: 0.7340 - AUROC: 0.8303 - val_loss: 0.6097 - val_categorical_accuracy: 0.7970 - val_AUROC: 0.8822\n",
            "Epoch 35/100\n",
            "65/65 [==============================] - 1s 17ms/step - loss: 0.6157 - categorical_accuracy: 0.7485 - AUROC: 0.8205 - val_loss: 0.4860 - val_categorical_accuracy: 0.7594 - val_AUROC: 0.8952\n",
            "Epoch 36/100\n",
            "65/65 [==============================] - 1s 17ms/step - loss: 0.6129 - categorical_accuracy: 0.7544 - AUROC: 0.8340 - val_loss: 0.4014 - val_categorical_accuracy: 0.8346 - val_AUROC: 0.9051\n",
            "Epoch 37/100\n",
            "65/65 [==============================] - 1s 17ms/step - loss: 0.5843 - categorical_accuracy: 0.7602 - AUROC: 0.8388 - val_loss: 0.3640 - val_categorical_accuracy: 0.8496 - val_AUROC: 0.9159\n",
            "Epoch 38/100\n",
            "65/65 [==============================] - 1s 16ms/step - loss: 0.6146 - categorical_accuracy: 0.7476 - AUROC: 0.8195 - val_loss: 0.4247 - val_categorical_accuracy: 0.8120 - val_AUROC: 0.9002\n",
            "Epoch 39/100\n",
            "65/65 [==============================] - 1s 16ms/step - loss: 0.5763 - categorical_accuracy: 0.7640 - AUROC: 0.8413 - val_loss: 0.4972 - val_categorical_accuracy: 0.8045 - val_AUROC: 0.8493\n",
            "Epoch 40/100\n",
            "65/65 [==============================] - 1s 16ms/step - loss: 0.5814 - categorical_accuracy: 0.7621 - AUROC: 0.8318 - val_loss: 0.4960 - val_categorical_accuracy: 0.8120 - val_AUROC: 0.8823\n",
            "Epoch 41/100\n",
            "65/65 [==============================] - 1s 16ms/step - loss: 0.5701 - categorical_accuracy: 0.7650 - AUROC: 0.8376 - val_loss: 0.3322 - val_categorical_accuracy: 0.8872 - val_AUROC: 0.9183\n",
            "Epoch 42/100\n",
            "65/65 [==============================] - 1s 16ms/step - loss: 0.5460 - categorical_accuracy: 0.7698 - AUROC: 0.8439 - val_loss: 0.4486 - val_categorical_accuracy: 0.8421 - val_AUROC: 0.8979\n",
            "Epoch 43/100\n",
            "65/65 [==============================] - 1s 16ms/step - loss: 0.5494 - categorical_accuracy: 0.7747 - AUROC: 0.8393 - val_loss: 0.3160 - val_categorical_accuracy: 0.8722 - val_AUROC: 0.9149\n",
            "Epoch 44/100\n",
            "65/65 [==============================] - 1s 16ms/step - loss: 0.5401 - categorical_accuracy: 0.7950 - AUROC: 0.8458 - val_loss: 0.3144 - val_categorical_accuracy: 0.8797 - val_AUROC: 0.9184\n",
            "Epoch 45/100\n",
            "65/65 [==============================] - 1s 16ms/step - loss: 0.5231 - categorical_accuracy: 0.7834 - AUROC: 0.8439 - val_loss: 0.5655 - val_categorical_accuracy: 0.7820 - val_AUROC: 0.8664\n",
            "Epoch 46/100\n",
            "65/65 [==============================] - 1s 17ms/step - loss: 0.5576 - categorical_accuracy: 0.7737 - AUROC: 0.8152 - val_loss: 0.3291 - val_categorical_accuracy: 0.8271 - val_AUROC: 0.8907\n",
            "Epoch 47/100\n",
            "65/65 [==============================] - 1s 17ms/step - loss: 0.5622 - categorical_accuracy: 0.7853 - AUROC: 0.8171 - val_loss: 0.3966 - val_categorical_accuracy: 0.8346 - val_AUROC: 0.8583\n",
            "Epoch 48/100\n",
            "65/65 [==============================] - 1s 17ms/step - loss: 0.5318 - categorical_accuracy: 0.7930 - AUROC: 0.8206 - val_loss: 0.2901 - val_categorical_accuracy: 0.8872 - val_AUROC: 0.9132\n",
            "Epoch 49/100\n",
            "65/65 [==============================] - 1s 16ms/step - loss: 0.5341 - categorical_accuracy: 0.7882 - AUROC: 0.8436 - val_loss: 0.3355 - val_categorical_accuracy: 0.8571 - val_AUROC: 0.9114\n",
            "Epoch 50/100\n",
            "65/65 [==============================] - 1s 16ms/step - loss: 0.4901 - categorical_accuracy: 0.8066 - AUROC: 0.8338 - val_loss: 0.5224 - val_categorical_accuracy: 0.7594 - val_AUROC: 0.8937\n",
            "Epoch 51/100\n",
            "65/65 [==============================] - 1s 16ms/step - loss: 0.5277 - categorical_accuracy: 0.7785 - AUROC: 0.8292 - val_loss: 0.4508 - val_categorical_accuracy: 0.8421 - val_AUROC: 0.8758\n",
            "Epoch 52/100\n",
            "65/65 [==============================] - 1s 16ms/step - loss: 0.4935 - categorical_accuracy: 0.7930 - AUROC: 0.8441 - val_loss: 0.4652 - val_categorical_accuracy: 0.8271 - val_AUROC: 0.8996\n",
            "Epoch 53/100\n",
            "65/65 [==============================] - 1s 16ms/step - loss: 0.5259 - categorical_accuracy: 0.7863 - AUROC: 0.8258 - val_loss: 0.3944 - val_categorical_accuracy: 0.8346 - val_AUROC: 0.9099\n",
            "Epoch 54/100\n",
            "65/65 [==============================] - 1s 16ms/step - loss: 0.5363 - categorical_accuracy: 0.7950 - AUROC: 0.8322 - val_loss: 0.3800 - val_categorical_accuracy: 0.8271 - val_AUROC: 0.9154\n",
            "Epoch 55/100\n",
            "65/65 [==============================] - 1s 16ms/step - loss: 0.5144 - categorical_accuracy: 0.7969 - AUROC: 0.8345 - val_loss: 0.5400 - val_categorical_accuracy: 0.7820 - val_AUROC: 0.8713\n",
            "Epoch 56/100\n",
            "65/65 [==============================] - 1s 16ms/step - loss: 0.4848 - categorical_accuracy: 0.8143 - AUROC: 0.8479 - val_loss: 0.3113 - val_categorical_accuracy: 0.8647 - val_AUROC: 0.9223\n"
          ]
        }
      ]
    },
    {
      "cell_type": "code",
      "source": [
        "df_hist = pd.DataFrame.from_dict(history.history)\n",
        "df_hist[\"Epoch\"] = np.arange(1, len(df_hist) + 1, 1)\n",
        "# Plot learning curves\n",
        "secondary_y = [\"AUROC\", \"val_AUROC\"] # [\"accuracy\", \"val_accuracy\"]\n",
        "ax = df_hist.plot(x=\"Epoch\", y=['loss', 'val_loss'] + secondary_y,\n",
        "                  secondary_y = secondary_y,\n",
        "                  kind=\"line\", figsize=(6, 3), grid=True, legend=True,\n",
        "                  ylabel=\"Categorical cross-entropy\", \n",
        "                  xlabel=\"Epoch\", title=\"Learning curves\",                  \n",
        "                  color=['darkred', 'indianred', \"darkblue\", \"royalblue\"], alpha=0.75, fontsize=10)\n",
        "ax.right_ax.set_ylabel(\"AUROC\")\n",
        "ax.right_ax.legend(loc=(0.25, -0.45), framealpha=1.0)\n",
        "ax.legend(loc=(0, -0.45), framealpha=1.0)\n",
        "plt.show()"
      ],
      "metadata": {
        "id": "BB6kfbj9y7Kr",
        "outputId": "e29f22b4-1fdf-4ba5-cb68-755e712952ec",
        "colab": {
          "base_uri": "https://localhost:8080/",
          "height": 394
        }
      },
      "execution_count": 78,
      "outputs": [
        {
          "output_type": "display_data",
          "data": {
            "text/plain": [
              "<Figure size 600x300 with 2 Axes>"
            ],
            "image/png": "[encoded data removed]"
          },
          "metadata": {}
        }
      ]
    },
    {
      "cell_type": "code",
      "source": [
        "eval_result2 = hypermodel2.evaluate(ds_test)\n",
        "print(\"[test loss, categorical_accuracy, test accuracy]:\", eval_result2)"
      ],
      "metadata": {
        "id": "s92CiZeJKuhj",
        "outputId": "99acfadf-6407-4365-e17b-034e67b658ec",
        "colab": {
          "base_uri": "https://localhost:8080/"
        }
      },
      "execution_count": 79,
      "outputs": [
        {
          "output_type": "stream",
          "name": "stdout",
          "text": [
            "8/8 [==============================] - 0s 5ms/step - loss: 0.3569 - categorical_accuracy: 0.8750 - AUROC: 0.9145\n",
            "[test loss, categorical_accuracy, test accuracy]: [0.356941282749176, 0.875, 0.91448974609375]\n"
          ]
        }
      ]
    },
    {
      "cell_type": "code",
      "source": [
        "hypermodel2.summary()"
      ],
      "metadata": {
        "id": "-34V5G1dqTou",
        "outputId": "49f82d79-20d2-4131-e30e-49e2226a6c4e",
        "colab": {
          "base_uri": "https://localhost:8080/"
        }
      },
      "execution_count": 80,
      "outputs": [
        {
          "output_type": "stream",
          "name": "stdout",
          "text": [
            "Model: \"CNN-V2_5\"\n",
            "_________________________________________________________________\n",
            " Layer (type)                Output Shape              Param #   \n",
            "=================================================================\n",
            " my_augmentation_pipeline (S  (None, 128, 128, 3)      0         \n",
            " equential)                                                      \n",
            "                                                                 \n",
            " rescaling_13 (Rescaling)    (None, 128, 128, 3)       0         \n",
            "                                                                 \n",
            " conv2d_26 (Conv2D)          (None, 123, 123, 16)      1744      \n",
            "                                                                 \n",
            " activation_26 (Activation)  (None, 123, 123, 16)      0         \n",
            "                                                                 \n",
            " max_pooling2d_26 (MaxPoolin  (None, 61, 61, 16)       0         \n",
            " g2D)                                                            \n",
            "                                                                 \n",
            " conv2d_27 (Conv2D)          (None, 56, 56, 56)        32312     \n",
            "                                                                 \n",
            " activation_27 (Activation)  (None, 56, 56, 56)        0         \n",
            "                                                                 \n",
            " max_pooling2d_27 (MaxPoolin  (None, 14, 14, 56)       0         \n",
            " g2D)                                                            \n",
            "                                                                 \n",
            " flatten_13 (Flatten)        (None, 10976)             0         \n",
            "                                                                 \n",
            " dense_13 (Dense)            (None, 3)                 32931     \n",
            "                                                                 \n",
            "=================================================================\n",
            "Total params: 66,987\n",
            "Trainable params: 66,987\n",
            "Non-trainable params: 0\n",
            "_________________________________________________________________\n"
          ]
        }
      ]
    },
    {
      "cell_type": "code",
      "source": [
        "%cd /content/drive/MyDrive\n",
        "%mkdir -p saved_model\n",
        "hypermodel2.save('saved_model/CNN')"
      ],
      "metadata": {
        "id": "cVniW4OB2nao",
        "outputId": "8476e035-5aa5-4a94-9947-41b1e2217dc4",
        "colab": {
          "base_uri": "https://localhost:8080/"
        }
      },
      "execution_count": 99,
      "outputs": [
        {
          "output_type": "stream",
          "name": "stdout",
          "text": [
            "/content/drive/MyDrive\n"
          ]
        },
        {
          "output_type": "stream",
          "name": "stderr",
          "text": [
            "WARNING:absl:Found untraced functions such as _jit_compiled_convolution_op, _jit_compiled_convolution_op while saving (showing 2 of 2). These functions will not be directly callable after loading.\n"
          ]
        }
      ]
    },
    {
      "cell_type": "code",
      "source": [
        "loaded_model = load_model(\"saved_model/CNN\")"
      ],
      "metadata": {
        "id": "IWCbPMff2yIf"
      },
      "execution_count": 101,
      "outputs": []
    },
    {
      "cell_type": "code",
      "source": [
        "eval_result_loaded = loaded_model.evaluate(ds_test)\n",
        "print(\"[test loss, categorical_accuracy, test accuracy]:\", eval_result_loaded)"
      ],
      "metadata": {
        "id": "At1qE52R4Q43",
        "outputId": "8c4bfb1c-839d-4470-f22f-07c00f48c6d0",
        "colab": {
          "base_uri": "https://localhost:8080/"
        }
      },
      "execution_count": 103,
      "outputs": [
        {
          "output_type": "stream",
          "name": "stdout",
          "text": [
            "8/8 [==============================] - 0s 6ms/step - loss: 0.3569 - categorical_accuracy: 0.8750 - AUROC: 0.9145\n",
            "[test loss, categorical_accuracy, test accuracy]: [0.3569413125514984, 0.875, 0.91448974609375]\n"
          ]
        }
      ]
    }
  ],
  "metadata": {
    "colab": {
      "provenance": [],
      "machine_shape": "hm"
    },
    "kernelspec": {
      "display_name": "Python 3",
      "name": "python3"
    },
    "language_info": {
      "name": "python"
    },
    "accelerator": "GPU",
    "gpuClass": "premium"
  },
  "nbformat": 4,
  "nbformat_minor": 0
}