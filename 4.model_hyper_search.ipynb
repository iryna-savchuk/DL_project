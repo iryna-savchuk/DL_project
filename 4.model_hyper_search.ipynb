{
  "cells": [
    {
      "cell_type": "markdown",
      "metadata": {
        "id": "f-bEHiYHwBgJ"
      },
      "source": [
        "The file will contain hyperparameter search and comparison with the handcrafted model"
      ]
    }
  ],
  "metadata": {
    "colab": {
      "authorship_tag": "ABX9TyP1KZr0VX8aPT5K+m8lkh8p",
      "provenance": []
    },
    "kernelspec": {
      "display_name": "Python 3",
      "name": "python3"
    },
    "language_info": {
      "name": "python"
    }
  },
  "nbformat": 4,
  "nbformat_minor": 0
}
