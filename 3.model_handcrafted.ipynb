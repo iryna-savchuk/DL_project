{
  "nbformat": 4,
  "nbformat_minor": 0,
  "metadata": {
    "colab": {
      "provenance": [],
      "authorship_tag": "ABX9TyPjGh41HtQJB4JMWgNXKsHf"
    },
    "kernelspec": {
      "name": "python3",
      "display_name": "Python 3"
    },
    "language_info": {
      "name": "python"
    }
  },
  "cells": [
    {
      "cell_type": "markdown",
      "source": [
        "This file will contain sequential model construction in a greedy iterative manner."
      ],
      "metadata": {
        "id": "HAtKOWtovOI-"
      }
    }
  ]
}