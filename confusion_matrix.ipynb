{
  "nbformat": 4,
  "nbformat_minor": 0,
  "metadata": {
    "colab": {
      "provenance": [],
      "authorship_tag": "ABX9TyO62P5A85c/dJsxuS/bxPiO"
    },
    "kernelspec": {
      "name": "python3",
      "display_name": "Python 3"
    },
    "language_info": {
      "name": "python"
    }
  },
  "cells": [
    {
      "cell_type": "code",
      "source": [
        "import tensorflow as tf\n",
        "from tensorflow.keras import datasets\n",
        "from tensorflow.keras.preprocessing import image_dataset_from_directory\n",
        "from tensorflow.keras import Sequential, Model, layers, initializers, regularizers, optimizers, metrics \n",
        "\n",
        "import os\n",
        "import time\n",
        "import shutil\n",
        "import random \n",
        "import zipfile\n",
        "\n",
        "import numpy as np\n",
        "import pandas as pd\n",
        "\n",
        "import seaborn as sns\n",
        "import matplotlib.pyplot as plt\n",
        "import matplotlib.image as mpimg\n",
        "from matplotlib.colors import ListedColormap\n",
        "\n",
        "from sklearn.metrics import confusion_matrix"
      ],
      "metadata": {
        "id": "5W8tV_bEJlO8"
      },
      "execution_count": 5,
      "outputs": []
    },
    {
      "cell_type": "code",
      "execution_count": 1,
      "metadata": {
        "colab": {
          "base_uri": "https://localhost:8080/"
        },
        "id": "XhFN6w2MI2zv",
        "outputId": "6e6fea14-f50e-4d95-be57-3304f08e71d9"
      },
      "outputs": [
        {
          "output_type": "stream",
          "name": "stdout",
          "text": [
            "Mounted at /content/gdrive\n"
          ]
        }
      ],
      "source": [
        "from google.colab import drive\n",
        "drive.mount('/content/gdrive')"
      ]
    },
    {
      "cell_type": "code",
      "source": [
        "# Set the machine\n",
        "gdrive = True\n",
        "# Set the connection string\n",
        "path = \"/content/gdrive/MyDrive/DL_Project/\"\n",
        "main_folder, training_folder, validation_folder, testing_folder = \"datasets/\", \"train/\", \"validation/\", \"test/\"\n",
        "# If using Google Drive\n",
        "if gdrive:\n",
        "    # Setup drive\n",
        "    from google.colab import drive\n",
        "    drive.mount('/content/gdrive')        \n",
        "    # Transfer zip dataset to the current virtual machine\n",
        "    t0 = time.time()\n",
        "    shutil.copyfile(path + 'datasets.zip', 'datasets.zip')\n",
        "    # Extract files\n",
        "    zip_ = zipfile.ZipFile('datasets.zip')\n",
        "    zip_.extractall()\n",
        "    zip_.close()\n",
        "    print(\"File transfer completed in %0.3f seconds\" % (time.time() - t0))\n",
        "    path = \"/content/\""
      ],
      "metadata": {
        "colab": {
          "base_uri": "https://localhost:8080/"
        },
        "id": "KG2KPJqsLISY",
        "outputId": "2d6af26d-c0ee-4893-91af-41b7c259c7e8"
      },
      "execution_count": 7,
      "outputs": [
        {
          "output_type": "stream",
          "name": "stdout",
          "text": [
            "Drive already mounted at /content/gdrive; to attempt to forcibly remount, call drive.mount(\"/content/gdrive\", force_remount=True).\n",
            "File transfer completed in 4.324 seconds\n"
          ]
        }
      ]
    },
    {
      "cell_type": "markdown",
      "source": [
        "Custom 128"
      ],
      "metadata": {
        "id": "m8TO-6MEOneQ"
      }
    },
    {
      "cell_type": "code",
      "source": [
        "image_size256 = (128, 128)\n",
        "crop_to_aspect_ratio = False\n",
        "labels='inferred'\n",
        "color_mode=\"rgb\"\n",
        "batch_size=16\n",
        "label_mode=\"categorical\"\n",
        "shuffle=True\n",
        "seed=42"
      ],
      "metadata": {
        "id": "tesgAp2LOqNE"
      },
      "execution_count": 17,
      "outputs": []
    },
    {
      "cell_type": "code",
      "source": [
        "ds_test = image_dataset_from_directory(path + main_folder + testing_folder, \n",
        "                                                image_size=image_size,\n",
        "                                                crop_to_aspect_ratio=crop_to_aspect_ratio,\n",
        "                                                color_mode=color_mode,\n",
        "                                                batch_size=batch_size,\n",
        "                                                label_mode=label_mode,\n",
        "                                                shuffle=shuffle,\n",
        "                                                seed=seed)"
      ],
      "metadata": {
        "colab": {
          "base_uri": "https://localhost:8080/"
        },
        "id": "R35lUeqtOr-M",
        "outputId": "22ce24bf-f34a-4931-f5f1-1cb16a4f8e28"
      },
      "execution_count": 18,
      "outputs": [
        {
          "output_type": "stream",
          "name": "stdout",
          "text": [
            "Found 128 files belonging to 3 classes.\n"
          ]
        }
      ]
    },
    {
      "cell_type": "code",
      "source": [
        "from tensorflow.keras.models import load_model\n",
        "model = load_model(\"/content/gdrive/MyDrive/DL_Project/saved_models/Custom_128/\")"
      ],
      "metadata": {
        "id": "L09juII3JHJg"
      },
      "execution_count": 14,
      "outputs": []
    },
    {
      "cell_type": "code",
      "source": [
        "model.summary()"
      ],
      "metadata": {
        "colab": {
          "base_uri": "https://localhost:8080/"
        },
        "id": "B_Wu3zABJZDK",
        "outputId": "11e4402d-9387-4adc-be76-3d9642264eca"
      },
      "execution_count": 15,
      "outputs": [
        {
          "output_type": "stream",
          "name": "stdout",
          "text": [
            "Model: \"CNN-2\"\n",
            "_________________________________________________________________\n",
            " Layer (type)                Output Shape              Param #   \n",
            "=================================================================\n",
            " my_augmentation_pipeline (S  (None, None, None, 3)    0         \n",
            " equential)                                                      \n",
            "                                                                 \n",
            " batch_normalization_8 (Batc  (None, 128, 128, 3)      12        \n",
            " hNormalization)                                                 \n",
            "                                                                 \n",
            " conv2d_6 (Conv2D)           (None, 42, 42, 64)        3136      \n",
            "                                                                 \n",
            " batch_normalization_9 (Batc  (None, 42, 42, 64)       256       \n",
            " hNormalization)                                                 \n",
            "                                                                 \n",
            " activation_6 (Activation)   (None, 42, 42, 64)        0         \n",
            "                                                                 \n",
            " max_pooling2d_6 (MaxPooling  (None, 14, 14, 64)       0         \n",
            " 2D)                                                             \n",
            "                                                                 \n",
            " conv2d_7 (Conv2D)           (None, 14, 14, 224)       358624    \n",
            "                                                                 \n",
            " batch_normalization_10 (Bat  (None, 14, 14, 224)      896       \n",
            " chNormalization)                                                \n",
            "                                                                 \n",
            " activation_7 (Activation)   (None, 14, 14, 224)       0         \n",
            "                                                                 \n",
            " max_pooling2d_7 (MaxPooling  (None, 6, 6, 224)        0         \n",
            " 2D)                                                             \n",
            "                                                                 \n",
            " conv2d_8 (Conv2D)           (None, 6, 6, 248)         889080    \n",
            "                                                                 \n",
            " batch_normalization_11 (Bat  (None, 6, 6, 248)        992       \n",
            " chNormalization)                                                \n",
            "                                                                 \n",
            " activation_8 (Activation)   (None, 6, 6, 248)         0         \n",
            "                                                                 \n",
            " max_pooling2d_8 (MaxPooling  (None, 3, 3, 248)        0         \n",
            " 2D)                                                             \n",
            "                                                                 \n",
            " global_max_pooling2d_2 (Glo  (None, 248)              0         \n",
            " balMaxPooling2D)                                                \n",
            "                                                                 \n",
            " dropout_2 (Dropout)         (None, 248)               0         \n",
            "                                                                 \n",
            " dense_2 (Dense)             (None, 3)                 747       \n",
            "                                                                 \n",
            "=================================================================\n",
            "Total params: 1,253,743\n",
            "Trainable params: 1,252,665\n",
            "Non-trainable params: 1,078\n",
            "_________________________________________________________________\n"
          ]
        }
      ]
    },
    {
      "cell_type": "code",
      "source": [
        " prediction = model.predict(ds_test)"
      ],
      "metadata": {
        "colab": {
          "base_uri": "https://localhost:8080/"
        },
        "id": "Ahqd1BV4NxLr",
        "outputId": "cd1f25be-de9f-40f9-92d8-db9fbbafe7d8"
      },
      "execution_count": 19,
      "outputs": [
        {
          "output_type": "stream",
          "name": "stdout",
          "text": [
            "8/8 [==============================] - 1s 79ms/step\n"
          ]
        }
      ]
    },
    {
      "cell_type": "code",
      "source": [
        "y_prediction = np.argmax (prediction, axis = 1)"
      ],
      "metadata": {
        "id": "yRQsHOlgRmzO"
      },
      "execution_count": 33,
      "outputs": []
    },
    {
      "cell_type": "code",
      "source": [
        "true = []\n",
        "for images, labels_batch in ds_test:\n",
        "    true += list(labels_batch.numpy())"
      ],
      "metadata": {
        "id": "XNWaS0WtTIIq"
      },
      "execution_count": null,
      "outputs": []
    },
    {
      "cell_type": "code",
      "source": [
        "y_test=np.argmax(true, axis=1)\n",
        "y_test"
      ],
      "metadata": {
        "colab": {
          "base_uri": "https://localhost:8080/"
        },
        "id": "FVlK9bizSRw0",
        "outputId": "5126f156-6f38-4f54-9e61-7177ba5d428e"
      },
      "execution_count": 40,
      "outputs": [
        {
          "output_type": "execute_result",
          "data": {
            "text/plain": [
              "array([0, 1, 1, 0, 0, 1, 0, 0, 2, 0, 0, 0, 0, 2, 1, 2, 1, 1, 0, 0, 2, 2,\n",
              "       1, 2, 2, 0, 2, 1, 1, 2, 2, 2, 2, 1, 2, 1, 0, 0, 1, 0, 0, 0, 2, 2,\n",
              "       1, 1, 0, 2, 2, 2, 0, 0, 1, 2, 1, 1, 0, 1, 0, 0, 2, 0, 0, 1, 0, 1,\n",
              "       1, 1, 2, 1, 1, 1, 2, 0, 2, 1, 1, 1, 1, 2, 2, 0, 2, 1, 2, 2, 0, 2,\n",
              "       0, 0, 2, 1, 1, 0, 2, 1, 2, 0, 0, 0, 2, 0, 2, 1, 2, 2, 2, 1, 0, 1,\n",
              "       1, 2, 2, 0, 1, 0, 2, 1, 1, 1, 2, 0, 1, 0, 1, 2, 0, 0])"
            ]
          },
          "metadata": {},
          "execution_count": 40
        }
      ]
    },
    {
      "cell_type": "code",
      "source": [
        "result = confusion_matrix(y_test, y_prediction , normalize='pred')\n",
        "print(result)"
      ],
      "metadata": {
        "colab": {
          "base_uri": "https://localhost:8080/"
        },
        "id": "sJueeSoLSkSN",
        "outputId": "558318d2-8ad9-4f73-8023-ac6314ec0463"
      },
      "execution_count": 41,
      "outputs": [
        {
          "output_type": "stream",
          "name": "stdout",
          "text": [
            "[[0.36956522 0.30952381 0.325     ]\n",
            " [0.32608696 0.33333333 0.35      ]\n",
            " [0.30434783 0.35714286 0.325     ]]\n"
          ]
        }
      ]
    },
    {
      "cell_type": "code",
      "source": [
        "import seaborn as sea\n",
        "from sklearn.metrics import confusion_matrix\n",
        "sea.heatmap(result, annot=True, cmap = 'Blues')"
      ],
      "metadata": {
        "colab": {
          "base_uri": "https://localhost:8080/",
          "height": 447
        },
        "id": "edcqQkwyS_m9",
        "outputId": "142caaf6-93ca-434f-a5a0-8302a96831a9"
      },
      "execution_count": 44,
      "outputs": [
        {
          "output_type": "execute_result",
          "data": {
            "text/plain": [
              "<Axes: >"
            ]
          },
          "metadata": {},
          "execution_count": 44
        },
        {
          "output_type": "display_data",
          "data": {
            "text/plain": [
              "<Figure size 640x480 with 2 Axes>"
            ],
            "image/png": "[encoded data removed]"
          },
          "metadata": {}
        }
      ]
    }
  ]
}