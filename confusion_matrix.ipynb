{
  "nbformat": 4,
  "nbformat_minor": 0,
  "metadata": {
    "colab": {
      "provenance": []
    },
    "kernelspec": {
      "name": "python3",
      "display_name": "Python 3"
    },
    "language_info": {
      "name": "python"
    }
  },
  "cells": [
    {
      "cell_type": "code",
      "source": [
        "import tensorflow as tf\n",
        "from tensorflow.keras import datasets\n",
        "from tensorflow.keras.preprocessing import image_dataset_from_directory\n",
        "from tensorflow.keras import Sequential, Model, layers, initializers, regularizers, optimizers, metrics \n",
        "\n",
        "import os\n",
        "import time\n",
        "import shutil\n",
        "import random \n",
        "import zipfile\n",
        "\n",
        "import numpy as np\n",
        "import pandas as pd\n",
        "\n",
        "import seaborn as sns\n",
        "import matplotlib.pyplot as plt\n",
        "import matplotlib.image as mpimg\n",
        "from matplotlib.colors import ListedColormap\n",
        "\n",
        "from sklearn.metrics import confusion_matrix"
      ],
      "metadata": {
        "id": "5W8tV_bEJlO8"
      },
      "execution_count": 27,
      "outputs": []
    },
    {
      "cell_type": "code",
      "execution_count": 28,
      "metadata": {
        "colab": {
          "base_uri": "https://localhost:8080/"
        },
        "id": "XhFN6w2MI2zv",
        "outputId": "da5b8d22-4934-4240-a9ae-3b4eb801cb91"
      },
      "outputs": [
        {
          "output_type": "stream",
          "name": "stdout",
          "text": [
            "Drive already mounted at /content/gdrive; to attempt to forcibly remount, call drive.mount(\"/content/gdrive\", force_remount=True).\n"
          ]
        }
      ],
      "source": [
        "from google.colab import drive\n",
        "drive.mount('/content/gdrive')"
      ]
    },
    {
      "cell_type": "code",
      "source": [
        "# Set the machine\n",
        "gdrive = True\n",
        "# Set the connection string\n",
        "path = \"/content/gdrive/MyDrive/DL_Project/\"\n",
        "main_folder, training_folder, validation_folder, testing_folder = \"datasets/\", \"train/\", \"validation/\", \"test/\"\n",
        "# If using Google Drive\n",
        "if gdrive:\n",
        "    # Setup drive\n",
        "    from google.colab import drive\n",
        "    drive.mount('/content/gdrive')        \n",
        "    # Transfer zip dataset to the current virtual machine\n",
        "    t0 = time.time()\n",
        "    shutil.copyfile(path + 'datasets.zip', 'datasets.zip')\n",
        "    # Extract files\n",
        "    zip_ = zipfile.ZipFile('datasets.zip')\n",
        "    zip_.extractall()\n",
        "    zip_.close()\n",
        "    print(\"File transfer completed in %0.3f seconds\" % (time.time() - t0))\n",
        "    path = \"/content/\""
      ],
      "metadata": {
        "colab": {
          "base_uri": "https://localhost:8080/"
        },
        "id": "KG2KPJqsLISY",
        "outputId": "1a2d2954-ed9e-4eed-ce5c-327739a88e34"
      },
      "execution_count": 29,
      "outputs": [
        {
          "output_type": "stream",
          "name": "stdout",
          "text": [
            "Drive already mounted at /content/gdrive; to attempt to forcibly remount, call drive.mount(\"/content/gdrive\", force_remount=True).\n",
            "File transfer completed in 3.658 seconds\n"
          ]
        }
      ]
    },
    {
      "cell_type": "markdown",
      "source": [
        "Custom 128"
      ],
      "metadata": {
        "id": "m8TO-6MEOneQ"
      }
    },
    {
      "cell_type": "code",
      "source": [
        "image_size = (128, 128)\n",
        "crop_to_aspect_ratio = False\n",
        "labels='inferred'\n",
        "color_mode=\"rgb\"\n",
        "batch_size=16\n",
        "label_mode=\"categorical\"\n",
        "shuffle=True\n",
        "seed=42"
      ],
      "metadata": {
        "id": "tesgAp2LOqNE"
      },
      "execution_count": 30,
      "outputs": []
    },
    {
      "cell_type": "code",
      "source": [
        "ds_test = image_dataset_from_directory(path + main_folder + testing_folder, \n",
        "                                                image_size=image_size,\n",
        "                                                crop_to_aspect_ratio=crop_to_aspect_ratio,\n",
        "                                                color_mode=color_mode,\n",
        "                                                batch_size=batch_size,\n",
        "                                                label_mode=label_mode,\n",
        "                                                shuffle=shuffle,\n",
        "                                                seed=seed)"
      ],
      "metadata": {
        "colab": {
          "base_uri": "https://localhost:8080/"
        },
        "id": "R35lUeqtOr-M",
        "outputId": "a6e3fb7b-2206-43f4-ff30-0b58139a19d2"
      },
      "execution_count": 31,
      "outputs": [
        {
          "output_type": "stream",
          "name": "stdout",
          "text": [
            "Found 128 files belonging to 3 classes.\n"
          ]
        }
      ]
    },
    {
      "cell_type": "code",
      "source": [
        "from tensorflow.keras.models import load_model\n",
        "model = load_model(\"/content/gdrive/MyDrive/DL_Project/saved_models/Custom_128/\")"
      ],
      "metadata": {
        "id": "L09juII3JHJg"
      },
      "execution_count": 32,
      "outputs": []
    },
    {
      "cell_type": "code",
      "source": [
        "model.summary()"
      ],
      "metadata": {
        "colab": {
          "base_uri": "https://localhost:8080/"
        },
        "id": "B_Wu3zABJZDK",
        "outputId": "a75b52a5-e29e-4dd9-cb7a-2e40aec2aa8b"
      },
      "execution_count": 33,
      "outputs": [
        {
          "output_type": "stream",
          "name": "stdout",
          "text": [
            "Model: \"CNN-2\"\n",
            "_________________________________________________________________\n",
            " Layer (type)                Output Shape              Param #   \n",
            "=================================================================\n",
            " my_augmentation_pipeline (S  (None, None, None, 3)    0         \n",
            " equential)                                                      \n",
            "                                                                 \n",
            " batch_normalization_8 (Batc  (None, 128, 128, 3)      12        \n",
            " hNormalization)                                                 \n",
            "                                                                 \n",
            " conv2d_6 (Conv2D)           (None, 42, 42, 64)        3136      \n",
            "                                                                 \n",
            " batch_normalization_9 (Batc  (None, 42, 42, 64)       256       \n",
            " hNormalization)                                                 \n",
            "                                                                 \n",
            " activation_6 (Activation)   (None, 42, 42, 64)        0         \n",
            "                                                                 \n",
            " max_pooling2d_6 (MaxPooling  (None, 14, 14, 64)       0         \n",
            " 2D)                                                             \n",
            "                                                                 \n",
            " conv2d_7 (Conv2D)           (None, 14, 14, 224)       358624    \n",
            "                                                                 \n",
            " batch_normalization_10 (Bat  (None, 14, 14, 224)      896       \n",
            " chNormalization)                                                \n",
            "                                                                 \n",
            " activation_7 (Activation)   (None, 14, 14, 224)       0         \n",
            "                                                                 \n",
            " max_pooling2d_7 (MaxPooling  (None, 6, 6, 224)        0         \n",
            " 2D)                                                             \n",
            "                                                                 \n",
            " conv2d_8 (Conv2D)           (None, 6, 6, 248)         889080    \n",
            "                                                                 \n",
            " batch_normalization_11 (Bat  (None, 6, 6, 248)        992       \n",
            " chNormalization)                                                \n",
            "                                                                 \n",
            " activation_8 (Activation)   (None, 6, 6, 248)         0         \n",
            "                                                                 \n",
            " max_pooling2d_8 (MaxPooling  (None, 3, 3, 248)        0         \n",
            " 2D)                                                             \n",
            "                                                                 \n",
            " global_max_pooling2d_2 (Glo  (None, 248)              0         \n",
            " balMaxPooling2D)                                                \n",
            "                                                                 \n",
            " dropout_2 (Dropout)         (None, 248)               0         \n",
            "                                                                 \n",
            " dense_2 (Dense)             (None, 3)                 747       \n",
            "                                                                 \n",
            "=================================================================\n",
            "Total params: 1,253,743\n",
            "Trainable params: 1,252,665\n",
            "Non-trainable params: 1,078\n",
            "_________________________________________________________________\n"
          ]
        }
      ]
    },
    {
      "cell_type": "code",
      "source": [
        " prediction = model.predict(ds_test)"
      ],
      "metadata": {
        "colab": {
          "base_uri": "https://localhost:8080/"
        },
        "id": "Ahqd1BV4NxLr",
        "outputId": "923337f8-59a4-4821-ddc5-a6c539906225"
      },
      "execution_count": 34,
      "outputs": [
        {
          "output_type": "stream",
          "name": "stdout",
          "text": [
            "8/8 [==============================] - 1s 79ms/step\n"
          ]
        }
      ]
    },
    {
      "cell_type": "code",
      "source": [
        "prediction"
      ],
      "metadata": {
        "colab": {
          "base_uri": "https://localhost:8080/"
        },
        "id": "UUJ-q1U-kq73",
        "outputId": "99b571fe-85ed-42b4-8bb3-14d7dadd8f32"
      },
      "execution_count": 35,
      "outputs": [
        {
          "output_type": "execute_result",
          "data": {
            "text/plain": [
              "array([[1.34726733e-01, 8.65113139e-01, 1.60094467e-04],\n",
              "       [1.64001924e-03, 9.97961640e-01, 3.98316450e-04],\n",
              "       [9.07015324e-01, 7.99806342e-02, 1.30039100e-02],\n",
              "       [1.17664138e-04, 3.95398762e-04, 9.99486864e-01],\n",
              "       [7.78113872e-07, 5.96005586e-04, 9.99403119e-01],\n",
              "       [3.98030170e-05, 9.99948680e-01, 1.14079221e-05],\n",
              "       [1.60884603e-08, 3.66508243e-06, 9.99996245e-01],\n",
              "       [8.19163620e-02, 9.17589724e-01, 4.93830303e-04],\n",
              "       [1.04606347e-02, 9.89208400e-01, 3.31046554e-04],\n",
              "       [9.94816720e-01, 4.94103553e-03, 2.42282709e-04],\n",
              "       [1.75161690e-01, 8.23727787e-01, 1.11056666e-03],\n",
              "       [2.13608425e-03, 9.97189522e-01, 6.74423703e-04],\n",
              "       [8.69335055e-01, 1.30194753e-01, 4.70228581e-04],\n",
              "       [7.84428048e-05, 5.32214679e-02, 9.46700096e-01],\n",
              "       [1.75167770e-05, 9.98459160e-01, 1.52330194e-03],\n",
              "       [6.27828777e-01, 3.71158630e-01, 1.01247791e-03],\n",
              "       [1.23677775e-04, 9.99552310e-01, 3.23967339e-04],\n",
              "       [1.73202436e-02, 9.56538916e-01, 2.61407439e-02],\n",
              "       [3.41035053e-03, 9.95940328e-01, 6.49298949e-04],\n",
              "       [9.99999702e-01, 2.25884492e-07, 6.86002766e-09],\n",
              "       [9.54334214e-02, 6.18619442e-01, 2.85947174e-01],\n",
              "       [8.59039664e-01, 7.65536278e-02, 6.44066930e-02],\n",
              "       [4.39418864e-06, 2.08979589e-04, 9.99786615e-01],\n",
              "       [5.16126271e-08, 9.84320741e-06, 9.99990046e-01],\n",
              "       [1.79461495e-03, 1.06291875e-04, 9.98099089e-01],\n",
              "       [1.57651654e-03, 9.95533407e-01, 2.89010280e-03],\n",
              "       [1.23082486e-04, 9.98421192e-01, 1.45564671e-03],\n",
              "       [6.23111646e-07, 6.25058528e-05, 9.99936759e-01],\n",
              "       [3.22463275e-05, 5.70816104e-04, 9.99396920e-01],\n",
              "       [9.67021525e-01, 2.25352403e-02, 1.04433084e-02],\n",
              "       [9.75944393e-04, 9.95842695e-01, 3.18127475e-03],\n",
              "       [9.34653333e-04, 9.98988867e-01, 7.65426958e-05],\n",
              "       [1.37703111e-02, 9.77486193e-01, 8.74351058e-03],\n",
              "       [2.16252599e-02, 9.77005541e-01, 1.36919401e-03],\n",
              "       [6.19989038e-01, 3.78822833e-01, 1.18805899e-03],\n",
              "       [1.12058008e-02, 1.62145086e-02, 9.72579718e-01],\n",
              "       [4.06826537e-08, 4.16391140e-06, 9.99995768e-01],\n",
              "       [5.72219014e-01, 4.24908370e-01, 2.87252292e-03],\n",
              "       [2.52306983e-02, 1.70378212e-03, 9.73065555e-01],\n",
              "       [5.51484991e-03, 9.92239535e-01, 2.24553118e-03],\n",
              "       [9.99315917e-01, 6.81008387e-04, 2.99260137e-06],\n",
              "       [5.45906126e-01, 4.55245860e-02, 4.08569217e-01],\n",
              "       [1.89848579e-04, 9.99586880e-01, 2.23363313e-04],\n",
              "       [1.79641100e-03, 9.97950494e-01, 2.53133505e-04],\n",
              "       [9.99998629e-01, 1.27347960e-06, 5.65209000e-08],\n",
              "       [9.99787569e-01, 2.11674385e-04, 8.46001285e-07],\n",
              "       [3.79640784e-04, 1.45097074e-04, 9.99475181e-01],\n",
              "       [9.96399641e-01, 2.96342885e-03, 6.36868819e-04],\n",
              "       [2.33517699e-02, 9.54562068e-01, 2.20861565e-02],\n",
              "       [9.99552548e-01, 2.53169215e-04, 1.94221197e-04],\n",
              "       [5.25944447e-03, 9.93647158e-01, 1.09340437e-03],\n",
              "       [7.21359220e-06, 4.15543727e-05, 9.99951184e-01],\n",
              "       [1.30600668e-03, 3.46200773e-03, 9.95231867e-01],\n",
              "       [1.35625303e-02, 9.81429338e-01, 5.00814430e-03],\n",
              "       [2.78896987e-02, 9.08215106e-01, 6.38952702e-02],\n",
              "       [7.90750146e-01, 1.91925287e-01, 1.73244625e-02],\n",
              "       [2.51244026e-04, 9.18813229e-01, 8.09356049e-02],\n",
              "       [1.64651141e-07, 3.38083482e-04, 9.99661803e-01],\n",
              "       [9.99996841e-01, 2.99139788e-06, 1.51207033e-07],\n",
              "       [8.19942306e-06, 5.87378722e-03, 9.94117916e-01],\n",
              "       [7.02137709e-01, 2.97615707e-01, 2.46561307e-04],\n",
              "       [7.62584250e-07, 1.17690233e-05, 9.99987423e-01],\n",
              "       [2.19773174e-05, 1.83586148e-04, 9.99794483e-01],\n",
              "       [2.07302932e-04, 1.59349904e-04, 9.99633372e-01],\n",
              "       [3.73655348e-05, 1.10092500e-04, 9.99852657e-01],\n",
              "       [3.60801846e-01, 6.22036517e-01, 1.71615724e-02],\n",
              "       [7.45222867e-01, 2.53048092e-01, 1.72902725e-03],\n",
              "       [2.24493846e-01, 1.15184136e-01, 6.60322011e-01],\n",
              "       [4.97198477e-03, 5.03758574e-03, 9.89990473e-01],\n",
              "       [9.69208419e-01, 3.07720825e-02, 1.94497370e-05],\n",
              "       [1.47462226e-04, 9.99486148e-01, 3.66311026e-04],\n",
              "       [2.62408275e-06, 3.66062653e-04, 9.99631345e-01],\n",
              "       [9.99375060e-03, 9.88355875e-01, 1.65026286e-03],\n",
              "       [9.99433637e-01, 5.51364094e-04, 1.49962862e-05],\n",
              "       [1.08590517e-02, 6.86743379e-01, 3.02397400e-01],\n",
              "       [3.59049154e-05, 2.25600624e-03, 9.97708023e-01],\n",
              "       [6.35191554e-06, 3.86054089e-05, 9.99954998e-01],\n",
              "       [9.49937105e-01, 6.44096313e-03, 4.36219387e-02],\n",
              "       [9.93827164e-01, 6.12250809e-03, 5.03507763e-05],\n",
              "       [9.25210834e-01, 7.06861615e-02, 4.10303427e-03],\n",
              "       [9.99953568e-01, 4.53264402e-05, 1.08524148e-06],\n",
              "       [3.51515246e-06, 4.29955653e-05, 9.99953449e-01],\n",
              "       [3.68353976e-05, 9.14652832e-04, 9.99048531e-01],\n",
              "       [6.59096181e-01, 3.37955236e-01, 2.94851651e-03],\n",
              "       [9.73245800e-01, 2.08137948e-02, 5.94048202e-03],\n",
              "       [7.19878226e-05, 7.37048162e-04, 9.99190986e-01],\n",
              "       [9.89781141e-01, 1.01364264e-02, 8.23803421e-05],\n",
              "       [8.70721281e-01, 1.21640265e-01, 7.63839111e-03],\n",
              "       [2.04968630e-04, 9.99734163e-01, 6.09332747e-05],\n",
              "       [9.96497869e-01, 3.44187371e-03, 6.02286127e-05],\n",
              "       [7.31055479e-05, 9.99821663e-01, 1.05310246e-04],\n",
              "       [1.03673272e-01, 8.92211080e-01, 4.11559967e-03],\n",
              "       [9.99844313e-01, 1.36346425e-04, 1.93919241e-05],\n",
              "       [4.12452454e-03, 9.24730837e-01, 7.11446181e-02],\n",
              "       [1.04547841e-02, 2.84549475e-01, 7.04995692e-01],\n",
              "       [1.56478427e-06, 6.13197481e-05, 9.99936998e-01],\n",
              "       [3.96807009e-05, 3.62794875e-04, 9.99597490e-01],\n",
              "       [2.74725189e-03, 5.44095458e-03, 9.91811752e-01],\n",
              "       [5.26482996e-04, 9.93319988e-01, 6.15354022e-03],\n",
              "       [7.12876618e-01, 1.02082804e-01, 1.85040578e-01],\n",
              "       [1.09427731e-06, 1.17375304e-04, 9.99881446e-01],\n",
              "       [3.81175982e-04, 9.99608338e-01, 1.05446989e-05],\n",
              "       [2.20114052e-05, 9.99925196e-01, 5.27451375e-05],\n",
              "       [7.30556378e-04, 1.17695471e-03, 9.98092413e-01],\n",
              "       [9.98121798e-01, 1.84401672e-03, 3.40997067e-05],\n",
              "       [9.10080783e-03, 9.80060577e-01, 1.08385971e-02],\n",
              "       [9.99907196e-01, 8.12552826e-05, 1.14287486e-05],\n",
              "       [5.03658270e-03, 9.93718505e-01, 1.24488748e-03],\n",
              "       [9.99313176e-01, 6.83003920e-04, 3.86362490e-06],\n",
              "       [8.42101514e-01, 1.54153049e-01, 3.74539569e-03],\n",
              "       [1.65079706e-04, 9.98716652e-01, 1.11814961e-03],\n",
              "       [9.99995053e-01, 4.93707375e-06, 4.25834790e-09],\n",
              "       [2.20606395e-04, 1.39846895e-02, 9.85794723e-01],\n",
              "       [5.05843878e-01, 4.74176705e-01, 1.99793596e-02],\n",
              "       [2.65200979e-05, 9.99967039e-01, 6.49110098e-06],\n",
              "       [5.00092030e-01, 4.92153347e-01, 7.75454566e-03],\n",
              "       [3.53477299e-06, 3.54258460e-04, 9.99642253e-01],\n",
              "       [9.87674415e-01, 1.17353676e-02, 5.90071373e-04],\n",
              "       [2.09911886e-05, 9.99925792e-01, 5.31523692e-05],\n",
              "       [9.80691612e-01, 1.92628354e-02, 4.55156223e-05],\n",
              "       [1.11992913e-03, 2.34441571e-02, 9.75435853e-01],\n",
              "       [9.99945939e-01, 5.32551239e-05, 7.53973438e-07],\n",
              "       [7.93204427e-01, 1.52082413e-01, 5.47131486e-02],\n",
              "       [1.61532516e-05, 5.34418214e-05, 9.99930322e-01],\n",
              "       [9.98356938e-01, 1.62840332e-03, 1.45645481e-05],\n",
              "       [3.80146739e-05, 8.75547412e-04, 9.99086380e-01],\n",
              "       [9.99604046e-01, 3.89604742e-04, 6.33097807e-06],\n",
              "       [9.88080859e-01, 1.08528081e-02, 1.06638263e-03]], dtype=float32)"
            ]
          },
          "metadata": {},
          "execution_count": 35
        }
      ]
    },
    {
      "cell_type": "code",
      "source": [
        "y_prediction = np.argmax(prediction, axis = 1)\n",
        "y_prediction"
      ],
      "metadata": {
        "id": "yRQsHOlgRmzO",
        "colab": {
          "base_uri": "https://localhost:8080/"
        },
        "outputId": "f54cffa1-49f9-494c-cfe7-b1736e5b25c7"
      },
      "execution_count": 36,
      "outputs": [
        {
          "output_type": "execute_result",
          "data": {
            "text/plain": [
              "array([1, 1, 0, 2, 2, 1, 2, 1, 1, 0, 1, 1, 0, 2, 1, 0, 1, 1, 1, 0, 1, 0,\n",
              "       2, 2, 2, 1, 1, 2, 2, 0, 1, 1, 1, 1, 0, 2, 2, 0, 2, 1, 0, 0, 1, 1,\n",
              "       0, 0, 2, 0, 1, 0, 1, 2, 2, 1, 1, 0, 1, 2, 0, 2, 0, 2, 2, 2, 2, 1,\n",
              "       0, 2, 2, 0, 1, 2, 1, 0, 1, 2, 2, 0, 0, 0, 0, 2, 2, 0, 0, 2, 0, 0,\n",
              "       1, 0, 1, 1, 0, 1, 2, 2, 2, 2, 1, 0, 2, 1, 1, 2, 0, 1, 0, 1, 0, 0,\n",
              "       1, 0, 2, 0, 1, 0, 2, 0, 1, 0, 2, 0, 0, 2, 0, 2, 0, 0])"
            ]
          },
          "metadata": {},
          "execution_count": 36
        }
      ]
    },
    {
      "cell_type": "code",
      "source": [
        "true = []\n",
        "for images, labels_batch in ds_test:\n",
        "    true += list(labels_batch.numpy())"
      ],
      "metadata": {
        "id": "XNWaS0WtTIIq"
      },
      "execution_count": 37,
      "outputs": []
    },
    {
      "cell_type": "code",
      "source": [
        "y_test=np.argmax(true, axis=1)\n",
        "y_test"
      ],
      "metadata": {
        "colab": {
          "base_uri": "https://localhost:8080/"
        },
        "id": "FVlK9bizSRw0",
        "outputId": "92a1dd5b-c79b-43f3-a643-05ec23d144b0"
      },
      "execution_count": 38,
      "outputs": [
        {
          "output_type": "execute_result",
          "data": {
            "text/plain": [
              "array([1, 1, 2, 2, 1, 2, 1, 0, 2, 1, 2, 1, 1, 2, 0, 0, 0, 2, 0, 1, 1, 0,\n",
              "       2, 2, 1, 1, 1, 0, 1, 0, 2, 0, 2, 1, 0, 1, 2, 2, 1, 1, 0, 0, 0, 1,\n",
              "       1, 2, 1, 1, 0, 1, 1, 0, 2, 2, 2, 0, 0, 1, 0, 1, 2, 1, 2, 0, 2, 2,\n",
              "       1, 1, 2, 0, 0, 2, 1, 1, 1, 0, 2, 1, 0, 0, 0, 0, 1, 0, 2, 2, 0, 0,\n",
              "       0, 2, 1, 2, 0, 2, 2, 2, 0, 0, 2, 0, 0, 0, 0, 1, 2, 1, 0, 1, 1, 2,\n",
              "       2, 0, 2, 1, 0, 2, 1, 0, 0, 1, 1, 0, 2, 1, 2, 2, 2, 2])"
            ]
          },
          "metadata": {},
          "execution_count": 38
        }
      ]
    },
    {
      "cell_type": "code",
      "source": [
        "from sklearn.metrics import confusion_matrix\n",
        "\n",
        "cf_matrix = confusion_matrix(y_test, y_prediction)\n",
        "sea.heatmap(cf_matrix, annot=True, cmap = 'Blues')"
      ],
      "metadata": {
        "colab": {
          "base_uri": "https://localhost:8080/",
          "height": 448
        },
        "id": "iwaIMlgvlLzu",
        "outputId": "22b29478-e401-41f3-f7d1-8ecb3b3d2c61"
      },
      "execution_count": 39,
      "outputs": [
        {
          "output_type": "execute_result",
          "data": {
            "text/plain": [
              "<Axes: >"
            ]
          },
          "metadata": {},
          "execution_count": 39
        },
        {
          "output_type": "display_data",
          "data": {
            "text/plain": [
              "<Figure size 640x480 with 2 Axes>"
            ],
            "image/png": "[encoded data removed]"
          },
          "metadata": {}
        }
      ]
    },
    {
      "cell_type": "code",
      "source": [
        "result = confusion_matrix(y_test, y_prediction , normalize='pred')\n",
        "print(result)"
      ],
      "metadata": {
        "colab": {
          "base_uri": "https://localhost:8080/"
        },
        "id": "sJueeSoLSkSN",
        "outputId": "2016bde3-864a-4545-c740-bfa9d46e5afc"
      },
      "execution_count": 40,
      "outputs": [
        {
          "output_type": "stream",
          "name": "stdout",
          "text": [
            "[[0.45652174 0.33333333 0.2       ]\n",
            " [0.26086957 0.35714286 0.4       ]\n",
            " [0.2826087  0.30952381 0.4       ]]\n"
          ]
        }
      ]
    },
    {
      "cell_type": "code",
      "source": [
        "import seaborn as sea\n",
        "from sklearn.metrics import confusion_matrix\n",
        "sea.heatmap(result, annot=True, cmap = 'Blues')"
      ],
      "metadata": {
        "colab": {
          "base_uri": "https://localhost:8080/",
          "height": 448
        },
        "id": "edcqQkwyS_m9",
        "outputId": "61e74ac8-9228-4427-b5c4-e5324e45d873"
      },
      "execution_count": 41,
      "outputs": [
        {
          "output_type": "execute_result",
          "data": {
            "text/plain": [
              "<Axes: >"
            ]
          },
          "metadata": {},
          "execution_count": 41
        },
        {
          "output_type": "display_data",
          "data": {
            "text/plain": [
              "<Figure size 640x480 with 2 Axes>"
            ],
            "image/png": "[encoded data removed]"
          },
          "metadata": {}
        }
      ]
    },
    {
      "cell_type": "markdown",
      "source": [
        "## Seems to be more correct\n"
      ],
      "metadata": {
        "id": "L8pG3--op23R"
      }
    },
    {
      "cell_type": "code",
      "source": [
        "test_pred, true = [], []\n",
        "\n",
        "for x, y in ds_test:\n",
        "    y_pred = np.argmax(model(x, training = False), axis = 1)\n",
        "    test_pred.extend(y_pred)\n",
        "    true.extend(np.argmax(y, axis = 1))\n",
        "    \n",
        "len(test_pred), len(true)"
      ],
      "metadata": {
        "colab": {
          "base_uri": "https://localhost:8080/"
        },
        "id": "XY6fDhItpXfK",
        "outputId": "403c41b5-4b96-4cb3-d39a-d1c79daa5682"
      },
      "execution_count": 43,
      "outputs": [
        {
          "output_type": "execute_result",
          "data": {
            "text/plain": [
              "(128, 128)"
            ]
          },
          "metadata": {},
          "execution_count": 43
        }
      ]
    },
    {
      "cell_type": "code",
      "source": [
        "cf_matrix = confusion_matrix(true, test_pred)\n",
        "sea.heatmap(cf_matrix, annot=True, cmap = 'Blues')"
      ],
      "metadata": {
        "colab": {
          "base_uri": "https://localhost:8080/",
          "height": 448
        },
        "id": "TZ4xaWt7pXbz",
        "outputId": "7f837347-8149-4c3c-9103-a4d4b7e73b3a"
      },
      "execution_count": 44,
      "outputs": [
        {
          "output_type": "execute_result",
          "data": {
            "text/plain": [
              "<Axes: >"
            ]
          },
          "metadata": {},
          "execution_count": 44
        },
        {
          "output_type": "display_data",
          "data": {
            "text/plain": [
              "<Figure size 640x480 with 2 Axes>"
            ],
            "image/png": "[encoded data removed]"
          },
          "metadata": {}
        }
      ]
    },
    {
      "cell_type": "markdown",
      "source": [
        "### Checking for other model - \"fine_tuning.keras\" - based on pretrained VGG16 and fine-tuned"
      ],
      "metadata": {
        "id": "GBqFcCgirAnH"
      }
    },
    {
      "cell_type": "code",
      "source": [
        "model_directory =\"/content/gdrive/MyDrive/DL_Project/saved_models/\"\n",
        "model_name = \"fine_tuning.keras\"\n",
        "model = load_model(model_directory+model_name)\n",
        "\n",
        "# Getting Model predictions\n",
        "test_pred, true = [], []\n",
        "\n",
        "for x, y in ds_test:\n",
        "    y_pred = np.argmax(model(x, training = False), axis = 1)\n",
        "    test_pred.extend(y_pred)\n",
        "    true.extend(np.argmax(y, axis = 1))\n",
        "    \n",
        "len(test_pred), len(true)"
      ],
      "metadata": {
        "colab": {
          "base_uri": "https://localhost:8080/"
        },
        "id": "KzqfrFa1lsZR",
        "outputId": "9b0d1c60-503c-4c4b-8bb9-da704d44b8d7"
      },
      "execution_count": 47,
      "outputs": [
        {
          "output_type": "execute_result",
          "data": {
            "text/plain": [
              "(128, 128)"
            ]
          },
          "metadata": {},
          "execution_count": 47
        }
      ]
    },
    {
      "cell_type": "code",
      "source": [
        "# Creating Confusion Matrix\n",
        "cf_matrix = confusion_matrix(true, test_pred)\n",
        "sea.heatmap(cf_matrix, annot=True, cmap = 'Blues')"
      ],
      "metadata": {
        "colab": {
          "base_uri": "https://localhost:8080/",
          "height": 448
        },
        "id": "riRJIIpbqz0g",
        "outputId": "dae6f41c-0814-4f2b-e978-09732872728d"
      },
      "execution_count": 48,
      "outputs": [
        {
          "output_type": "execute_result",
          "data": {
            "text/plain": [
              "<Axes: >"
            ]
          },
          "metadata": {},
          "execution_count": 48
        },
        {
          "output_type": "display_data",
          "data": {
            "text/plain": [
              "<Figure size 640x480 with 2 Axes>"
            ],
            "image/png": "[encoded data removed]"
          },
          "metadata": {}
        }
      ]
    },
    {
      "cell_type": "code",
      "source": [
        "# To decode the values of labels (to get class names and label indices\n",
        "class_names = ds_test.class_names \n",
        "class_names"
      ],
      "metadata": {
        "id": "lt-b-B_K2No6",
        "outputId": "28707cfd-ea71-4c89-ed16-cc21ec7b052d",
        "colab": {
          "base_uri": "https://localhost:8080/"
        }
      },
      "execution_count": 55,
      "outputs": [
        {
          "output_type": "execute_result",
          "data": {
            "text/plain": [
              "['angular_leaf_spot', 'bean_rust', 'healthy']"
            ]
          },
          "metadata": {},
          "execution_count": 55
        }
      ]
    }
  ]
}