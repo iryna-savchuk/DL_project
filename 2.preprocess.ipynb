{
  "cells": [
    {
      "cell_type": "markdown",
      "id": "8b0cb6fd-1bb3-4839-86d6-cc048bf42ecb",
      "metadata": {
        "id": "8b0cb6fd-1bb3-4839-86d6-cc048bf42ecb"
      },
      "source": [
        "This file will contain the necessary data preprocessing steps (if any).\n"
      ]
    }
  ],
  "metadata": {
    "kernelspec": {
      "display_name": "Python 3 (ipykernel)",
      "language": "python",
      "name": "python3"
    },
    "language_info": {
      "codemirror_mode": {
        "name": "ipython",
        "version": 3
      },
      "file_extension": ".py",
      "mimetype": "text/x-python",
      "name": "python",
      "nbconvert_exporter": "python",
      "pygments_lexer": "ipython3",
      "version": "3.9.13"
    },
    "colab": {
      "provenance": []
    },
    "accelerator": "GPU",
    "gpuClass": "standard"
  },
  "nbformat": 4,
  "nbformat_minor": 5
}