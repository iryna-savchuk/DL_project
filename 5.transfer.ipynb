{
  "nbformat": 4,
  "nbformat_minor": 0,
  "metadata": {
    "colab": {
      "provenance": [],
      "authorship_tag": "ABX9TyPeUCJmyH7LW3uQbu/SIpYQ"
    },
    "kernelspec": {
      "name": "python3",
      "display_name": "Python 3"
    },
    "language_info": {
      "name": "python"
    }
  },
  "cells": [
    {
      "cell_type": "markdown",
      "source": [
        "The file will contain transfer learning use case(s) and comparison with the best model."
      ],
      "metadata": {
        "id": "Oi8mJmwnwmYM"
      }
    },
    {
      "cell_type": "code",
      "source": [],
      "metadata": {
        "id": "yYsQs7Pjwrpn"
      },
      "execution_count": null,
      "outputs": []
    }
  ]
}